{
  "nbformat": 4,
  "nbformat_minor": 0,
  "metadata": {
    "colab": {
      "name": " IP Week8",
      "provenance": [],
      "collapsed_sections": [
        "HPQviDmNtta8",
        "qjFHK1CKty7o",
        "HSsicSdvt4Zs"
      ],
      "include_colab_link": true
    },
    "kernelspec": {
      "display_name": "Python 3",
      "name": "python3"
    }
  },
  "cells": [
    {
      "cell_type": "markdown",
      "metadata": {
        "id": "view-in-github",
        "colab_type": "text"
      },
      "source": [
        "<a href=\"https://colab.research.google.com/github/MoffatKirui/ipweek8/blob/main/IP_Week8.ipynb\" target=\"_parent\"><img src=\"https://colab.research.google.com/assets/colab-badge.svg\" alt=\"Open In Colab\"/></a>"
      ]
    },
    {
      "cell_type": "markdown",
      "metadata": {
        "id": "kLG2VTrnTvYL"
      },
      "source": [
        "## 1. Defining the Question"
      ]
    },
    {
      "cell_type": "markdown",
      "metadata": {
        "id": "XecOwPNorl2W"
      },
      "source": [
        "### a) Specifying the Question"
      ]
    },
    {
      "cell_type": "markdown",
      "metadata": {
        "id": "8l3-hBO6bODP"
      },
      "source": [
        "\n",
        "Nairobi Hospital conducted a clinical camp to test for hypothyroidism. The data collected focused on Thyroid patients. Use the healthcare datasets provided to accomplish the following:  \n",
        "\n",
        "Build a model that determines whether or not the patient's symptoms indicate that the patient has hypothyroid.\n"
      ]
    },
    {
      "cell_type": "markdown",
      "metadata": {
        "id": "J4wfHZwQrs-t"
      },
      "source": [
        "\n",
        "\n",
        "\n",
        "### b) Defining the Metric for Success"
      ]
    },
    {
      "cell_type": "markdown",
      "metadata": {
        "id": "3meOaU3DGZy2"
      },
      "source": [
        "Our metric of success will be :\n",
        "\n",
        "1.   Build at least 2 out of the 3 advanced decision trees models i.e Random forests, Ada boosted trees, and gradient boosted trees.\n",
        "Try to optimize them and select the best one to determine which features are most impactful in influencing the prediction\n",
        "2.   Apply Polynomial, linear and rbf kernel function to build SVM models and then evaluate their performance and pick the kernel that performs the best. \n",
        "\n",
        "\n",
        "\n",
        "\n"
      ]
    },
    {
      "cell_type": "markdown",
      "metadata": {
        "id": "a9BPYqunry97"
      },
      "source": [
        "### c) Understanding the context "
      ]
    },
    {
      "cell_type": "markdown",
      "metadata": {
        "id": "M5oc3kF7KvG_"
      },
      "source": [
        "Dataset Columns:\n",
        "\n",
        "* Age\n",
        "* Sex\n",
        "* on_thyroxine - taking the thyroxine drug\n",
        "* query_on_thyroxine\n",
        "* on_antithyroid_medicationthyroid_surgery\n",
        "* query_hypothyroid\n",
        "* query_hyperthyroid\n",
        "* pregnant\n",
        "* sick\n",
        "* tumor\n",
        "* lithium\n",
        "* goitre\n",
        "* TSH_measured\n",
        "* TSH (thyroid stimulating hormone)\n",
        "* T3_measured\n",
        "* T3 (triiodothyronine)\n",
        "* TT4_measured\n",
        "* TT4 (thyroxine)"
      ]
    },
    {
      "cell_type": "markdown",
      "metadata": {
        "id": "7KMRBJ7zr9HD"
      },
      "source": [
        "### d) Recording the Experimental Design"
      ]
    },
    {
      "cell_type": "markdown",
      "metadata": {
        "id": "Yp__6QeAPC3p"
      },
      "source": [
        "For the project to be a success, the following steps will be followed:\n",
        "\n",
        "* Read and explore the given dataset.\n",
        "* Find and deal with outliers, anomalies, and missing data within the dataset.\n",
        "* Perform exploratory data analysis recording your observations.\n",
        "* build a model that makes the above prediction using at least 2 out of the 3 advanced models we have studied: Random forests, Ada boosted trees, and gradient boosted trees.\n",
        "* Try and optimize each of the 2 models, making sure to document how you've set up your hyperparameters.\n",
        "* Identify which of the 2 models you trust most, and use your model to determine which features are most impactful in influencing the prediction\n",
        "* clean the data a little bit so as to make sense of the features.\n",
        "* Document what transformation you've done on the data.\n",
        "* Apply Polynomial, linear and rbf kernel function to build your SVM model and then evaluate their performance and pick the kernel that performs the best. Remember to tune your parameters to improve the performance of your model. To make your life easier, make sure to visualize the models you've created. Use any two features to build the models for this step.\n",
        "\n",
        "Hint: You may want to use decision trees to give you the most preferable features you can use. but also keep in mind that those features might not be suitable for SVM. It might be a good idea to graph them first.\n",
        "\n",
        "-  After getting your best performing kernel, use this kernel together with your tuned parameters and repeat the prediction but this time using additional features. Compare the model you've just created with the 2-features version. \n",
        "\n",
        "\n",
        "\n"
      ]
    },
    {
      "cell_type": "markdown",
      "metadata": {
        "id": "zSGyg6kWsBUl"
      },
      "source": [
        "### e) Data Relevance"
      ]
    },
    {
      "cell_type": "markdown",
      "metadata": {
        "id": "R-SMjasMSr1e"
      },
      "source": [
        "The dataset has relevant predictor variables that relates to hypothyroidism hence can be used to classify whether a person has the condition or not."
      ]
    },
    {
      "cell_type": "markdown",
      "metadata": {
        "id": "iUNbvIvnT7ep"
      },
      "source": [
        "## 2. Reading the Data"
      ]
    },
    {
      "cell_type": "code",
      "metadata": {
        "id": "XJn2KjW-WMlG"
      },
      "source": [
        "# Loading the Dataset\n",
        "# Dataset url = \"http://bit.ly/hypothyroid_data\"\n",
        "\n",
        "#importing necessary libraries for reading data\n",
        "import pandas as pd\n",
        "import numpy as np\n",
        "\n",
        "#reading the data from url\n",
        "url = \"http://bit.ly/hypothyroid_data\"\n",
        "hypothyroid_data=pd.read_csv(url)"
      ],
      "execution_count": 4,
      "outputs": []
    },
    {
      "cell_type": "markdown",
      "metadata": {
        "id": "OI3P3YnHUEBk"
      },
      "source": [
        "## 3. Checking the Data"
      ]
    },
    {
      "cell_type": "code",
      "metadata": {
        "colab": {
          "base_uri": "https://localhost:8080/"
        },
        "id": "YjSVNwgptHxY",
        "outputId": "5865afdd-28a8-4655-bbea-0de33fbc3474"
      },
      "source": [
        "# Determining the no. of records in our dataset\n",
        "#\n",
        "hypothyroid_data.shape"
      ],
      "execution_count": 5,
      "outputs": [
        {
          "output_type": "execute_result",
          "data": {
            "text/plain": [
              "(3163, 26)"
            ]
          },
          "metadata": {
            "tags": []
          },
          "execution_count": 5
        }
      ]
    },
    {
      "cell_type": "code",
      "metadata": {
        "colab": {
          "base_uri": "https://localhost:8080/",
          "height": 224
        },
        "id": "xHhTw5eKWr0n",
        "outputId": "d98ab55a-91a7-41f1-d6f3-404fbe69054f"
      },
      "source": [
        "# Previewing the top of our dataset\n",
        "#\n",
        "hypothyroid_data.head()"
      ],
      "execution_count": 6,
      "outputs": [
        {
          "output_type": "execute_result",
          "data": {
            "text/html": [
              "<div>\n",
              "<style scoped>\n",
              "    .dataframe tbody tr th:only-of-type {\n",
              "        vertical-align: middle;\n",
              "    }\n",
              "\n",
              "    .dataframe tbody tr th {\n",
              "        vertical-align: top;\n",
              "    }\n",
              "\n",
              "    .dataframe thead th {\n",
              "        text-align: right;\n",
              "    }\n",
              "</style>\n",
              "<table border=\"1\" class=\"dataframe\">\n",
              "  <thead>\n",
              "    <tr style=\"text-align: right;\">\n",
              "      <th></th>\n",
              "      <th>status</th>\n",
              "      <th>age</th>\n",
              "      <th>sex</th>\n",
              "      <th>on_thyroxine</th>\n",
              "      <th>query_on_thyroxine</th>\n",
              "      <th>on_antithyroid_medication</th>\n",
              "      <th>thyroid_surgery</th>\n",
              "      <th>query_hypothyroid</th>\n",
              "      <th>query_hyperthyroid</th>\n",
              "      <th>pregnant</th>\n",
              "      <th>sick</th>\n",
              "      <th>tumor</th>\n",
              "      <th>lithium</th>\n",
              "      <th>goitre</th>\n",
              "      <th>TSH_measured</th>\n",
              "      <th>TSH</th>\n",
              "      <th>T3_measured</th>\n",
              "      <th>T3</th>\n",
              "      <th>TT4_measured</th>\n",
              "      <th>TT4</th>\n",
              "      <th>T4U_measured</th>\n",
              "      <th>T4U</th>\n",
              "      <th>FTI_measured</th>\n",
              "      <th>FTI</th>\n",
              "      <th>TBG_measured</th>\n",
              "      <th>TBG</th>\n",
              "    </tr>\n",
              "  </thead>\n",
              "  <tbody>\n",
              "    <tr>\n",
              "      <th>0</th>\n",
              "      <td>hypothyroid</td>\n",
              "      <td>72</td>\n",
              "      <td>M</td>\n",
              "      <td>f</td>\n",
              "      <td>f</td>\n",
              "      <td>f</td>\n",
              "      <td>f</td>\n",
              "      <td>f</td>\n",
              "      <td>f</td>\n",
              "      <td>f</td>\n",
              "      <td>f</td>\n",
              "      <td>f</td>\n",
              "      <td>f</td>\n",
              "      <td>f</td>\n",
              "      <td>y</td>\n",
              "      <td>30</td>\n",
              "      <td>y</td>\n",
              "      <td>0.60</td>\n",
              "      <td>y</td>\n",
              "      <td>15</td>\n",
              "      <td>y</td>\n",
              "      <td>1.48</td>\n",
              "      <td>y</td>\n",
              "      <td>10</td>\n",
              "      <td>n</td>\n",
              "      <td>?</td>\n",
              "    </tr>\n",
              "    <tr>\n",
              "      <th>1</th>\n",
              "      <td>hypothyroid</td>\n",
              "      <td>15</td>\n",
              "      <td>F</td>\n",
              "      <td>t</td>\n",
              "      <td>f</td>\n",
              "      <td>f</td>\n",
              "      <td>f</td>\n",
              "      <td>f</td>\n",
              "      <td>f</td>\n",
              "      <td>f</td>\n",
              "      <td>f</td>\n",
              "      <td>f</td>\n",
              "      <td>f</td>\n",
              "      <td>f</td>\n",
              "      <td>y</td>\n",
              "      <td>145</td>\n",
              "      <td>y</td>\n",
              "      <td>1.70</td>\n",
              "      <td>y</td>\n",
              "      <td>19</td>\n",
              "      <td>y</td>\n",
              "      <td>1.13</td>\n",
              "      <td>y</td>\n",
              "      <td>17</td>\n",
              "      <td>n</td>\n",
              "      <td>?</td>\n",
              "    </tr>\n",
              "    <tr>\n",
              "      <th>2</th>\n",
              "      <td>hypothyroid</td>\n",
              "      <td>24</td>\n",
              "      <td>M</td>\n",
              "      <td>f</td>\n",
              "      <td>f</td>\n",
              "      <td>f</td>\n",
              "      <td>f</td>\n",
              "      <td>f</td>\n",
              "      <td>f</td>\n",
              "      <td>f</td>\n",
              "      <td>f</td>\n",
              "      <td>f</td>\n",
              "      <td>f</td>\n",
              "      <td>f</td>\n",
              "      <td>y</td>\n",
              "      <td>0</td>\n",
              "      <td>y</td>\n",
              "      <td>0.20</td>\n",
              "      <td>y</td>\n",
              "      <td>4</td>\n",
              "      <td>y</td>\n",
              "      <td>1</td>\n",
              "      <td>y</td>\n",
              "      <td>0</td>\n",
              "      <td>n</td>\n",
              "      <td>?</td>\n",
              "    </tr>\n",
              "    <tr>\n",
              "      <th>3</th>\n",
              "      <td>hypothyroid</td>\n",
              "      <td>24</td>\n",
              "      <td>F</td>\n",
              "      <td>f</td>\n",
              "      <td>f</td>\n",
              "      <td>f</td>\n",
              "      <td>f</td>\n",
              "      <td>f</td>\n",
              "      <td>f</td>\n",
              "      <td>f</td>\n",
              "      <td>f</td>\n",
              "      <td>f</td>\n",
              "      <td>f</td>\n",
              "      <td>f</td>\n",
              "      <td>y</td>\n",
              "      <td>430</td>\n",
              "      <td>y</td>\n",
              "      <td>0.40</td>\n",
              "      <td>y</td>\n",
              "      <td>6</td>\n",
              "      <td>y</td>\n",
              "      <td>1.04</td>\n",
              "      <td>y</td>\n",
              "      <td>6</td>\n",
              "      <td>n</td>\n",
              "      <td>?</td>\n",
              "    </tr>\n",
              "    <tr>\n",
              "      <th>4</th>\n",
              "      <td>hypothyroid</td>\n",
              "      <td>77</td>\n",
              "      <td>M</td>\n",
              "      <td>f</td>\n",
              "      <td>f</td>\n",
              "      <td>f</td>\n",
              "      <td>f</td>\n",
              "      <td>f</td>\n",
              "      <td>f</td>\n",
              "      <td>f</td>\n",
              "      <td>f</td>\n",
              "      <td>f</td>\n",
              "      <td>f</td>\n",
              "      <td>f</td>\n",
              "      <td>y</td>\n",
              "      <td>7.30</td>\n",
              "      <td>y</td>\n",
              "      <td>1.20</td>\n",
              "      <td>y</td>\n",
              "      <td>57</td>\n",
              "      <td>y</td>\n",
              "      <td>1.28</td>\n",
              "      <td>y</td>\n",
              "      <td>44</td>\n",
              "      <td>n</td>\n",
              "      <td>?</td>\n",
              "    </tr>\n",
              "  </tbody>\n",
              "</table>\n",
              "</div>"
            ],
            "text/plain": [
              "        status age sex on_thyroxine  ... FTI_measured FTI TBG_measured TBG\n",
              "0  hypothyroid  72   M            f  ...            y  10            n   ?\n",
              "1  hypothyroid  15   F            t  ...            y  17            n   ?\n",
              "2  hypothyroid  24   M            f  ...            y   0            n   ?\n",
              "3  hypothyroid  24   F            f  ...            y   6            n   ?\n",
              "4  hypothyroid  77   M            f  ...            y  44            n   ?\n",
              "\n",
              "[5 rows x 26 columns]"
            ]
          },
          "metadata": {
            "tags": []
          },
          "execution_count": 6
        }
      ]
    },
    {
      "cell_type": "code",
      "metadata": {
        "colab": {
          "base_uri": "https://localhost:8080/",
          "height": 224
        },
        "id": "e9AzGcZFrIIr",
        "outputId": "f244c82e-2d69-48a2-e4dc-23dc39ec8448"
      },
      "source": [
        "# Previewing the bottom of our dataset\n",
        "# \n",
        "hypothyroid_data.tail()"
      ],
      "execution_count": 7,
      "outputs": [
        {
          "output_type": "execute_result",
          "data": {
            "text/html": [
              "<div>\n",
              "<style scoped>\n",
              "    .dataframe tbody tr th:only-of-type {\n",
              "        vertical-align: middle;\n",
              "    }\n",
              "\n",
              "    .dataframe tbody tr th {\n",
              "        vertical-align: top;\n",
              "    }\n",
              "\n",
              "    .dataframe thead th {\n",
              "        text-align: right;\n",
              "    }\n",
              "</style>\n",
              "<table border=\"1\" class=\"dataframe\">\n",
              "  <thead>\n",
              "    <tr style=\"text-align: right;\">\n",
              "      <th></th>\n",
              "      <th>status</th>\n",
              "      <th>age</th>\n",
              "      <th>sex</th>\n",
              "      <th>on_thyroxine</th>\n",
              "      <th>query_on_thyroxine</th>\n",
              "      <th>on_antithyroid_medication</th>\n",
              "      <th>thyroid_surgery</th>\n",
              "      <th>query_hypothyroid</th>\n",
              "      <th>query_hyperthyroid</th>\n",
              "      <th>pregnant</th>\n",
              "      <th>sick</th>\n",
              "      <th>tumor</th>\n",
              "      <th>lithium</th>\n",
              "      <th>goitre</th>\n",
              "      <th>TSH_measured</th>\n",
              "      <th>TSH</th>\n",
              "      <th>T3_measured</th>\n",
              "      <th>T3</th>\n",
              "      <th>TT4_measured</th>\n",
              "      <th>TT4</th>\n",
              "      <th>T4U_measured</th>\n",
              "      <th>T4U</th>\n",
              "      <th>FTI_measured</th>\n",
              "      <th>FTI</th>\n",
              "      <th>TBG_measured</th>\n",
              "      <th>TBG</th>\n",
              "    </tr>\n",
              "  </thead>\n",
              "  <tbody>\n",
              "    <tr>\n",
              "      <th>3158</th>\n",
              "      <td>negative</td>\n",
              "      <td>58</td>\n",
              "      <td>F</td>\n",
              "      <td>f</td>\n",
              "      <td>f</td>\n",
              "      <td>f</td>\n",
              "      <td>f</td>\n",
              "      <td>f</td>\n",
              "      <td>f</td>\n",
              "      <td>f</td>\n",
              "      <td>f</td>\n",
              "      <td>f</td>\n",
              "      <td>f</td>\n",
              "      <td>f</td>\n",
              "      <td>y</td>\n",
              "      <td>5.80</td>\n",
              "      <td>y</td>\n",
              "      <td>1.70</td>\n",
              "      <td>y</td>\n",
              "      <td>86</td>\n",
              "      <td>y</td>\n",
              "      <td>0.91</td>\n",
              "      <td>y</td>\n",
              "      <td>95</td>\n",
              "      <td>n</td>\n",
              "      <td>?</td>\n",
              "    </tr>\n",
              "    <tr>\n",
              "      <th>3159</th>\n",
              "      <td>negative</td>\n",
              "      <td>29</td>\n",
              "      <td>F</td>\n",
              "      <td>f</td>\n",
              "      <td>f</td>\n",
              "      <td>f</td>\n",
              "      <td>f</td>\n",
              "      <td>f</td>\n",
              "      <td>f</td>\n",
              "      <td>f</td>\n",
              "      <td>f</td>\n",
              "      <td>f</td>\n",
              "      <td>f</td>\n",
              "      <td>f</td>\n",
              "      <td>y</td>\n",
              "      <td>0.80</td>\n",
              "      <td>y</td>\n",
              "      <td>1.80</td>\n",
              "      <td>y</td>\n",
              "      <td>99</td>\n",
              "      <td>y</td>\n",
              "      <td>1.01</td>\n",
              "      <td>y</td>\n",
              "      <td>98</td>\n",
              "      <td>n</td>\n",
              "      <td>?</td>\n",
              "    </tr>\n",
              "    <tr>\n",
              "      <th>3160</th>\n",
              "      <td>negative</td>\n",
              "      <td>77</td>\n",
              "      <td>M</td>\n",
              "      <td>f</td>\n",
              "      <td>f</td>\n",
              "      <td>f</td>\n",
              "      <td>f</td>\n",
              "      <td>f</td>\n",
              "      <td>f</td>\n",
              "      <td>f</td>\n",
              "      <td>f</td>\n",
              "      <td>f</td>\n",
              "      <td>f</td>\n",
              "      <td>f</td>\n",
              "      <td>y</td>\n",
              "      <td>1.20</td>\n",
              "      <td>y</td>\n",
              "      <td>0.60</td>\n",
              "      <td>y</td>\n",
              "      <td>71</td>\n",
              "      <td>y</td>\n",
              "      <td>0.68</td>\n",
              "      <td>y</td>\n",
              "      <td>104</td>\n",
              "      <td>n</td>\n",
              "      <td>?</td>\n",
              "    </tr>\n",
              "    <tr>\n",
              "      <th>3161</th>\n",
              "      <td>negative</td>\n",
              "      <td>74</td>\n",
              "      <td>F</td>\n",
              "      <td>f</td>\n",
              "      <td>f</td>\n",
              "      <td>f</td>\n",
              "      <td>f</td>\n",
              "      <td>f</td>\n",
              "      <td>f</td>\n",
              "      <td>f</td>\n",
              "      <td>f</td>\n",
              "      <td>f</td>\n",
              "      <td>f</td>\n",
              "      <td>f</td>\n",
              "      <td>y</td>\n",
              "      <td>1.30</td>\n",
              "      <td>y</td>\n",
              "      <td>0.10</td>\n",
              "      <td>y</td>\n",
              "      <td>65</td>\n",
              "      <td>y</td>\n",
              "      <td>0.48</td>\n",
              "      <td>y</td>\n",
              "      <td>137</td>\n",
              "      <td>n</td>\n",
              "      <td>?</td>\n",
              "    </tr>\n",
              "    <tr>\n",
              "      <th>3162</th>\n",
              "      <td>negative</td>\n",
              "      <td>56</td>\n",
              "      <td>F</td>\n",
              "      <td>t</td>\n",
              "      <td>f</td>\n",
              "      <td>f</td>\n",
              "      <td>f</td>\n",
              "      <td>f</td>\n",
              "      <td>f</td>\n",
              "      <td>f</td>\n",
              "      <td>f</td>\n",
              "      <td>f</td>\n",
              "      <td>f</td>\n",
              "      <td>f</td>\n",
              "      <td>y</td>\n",
              "      <td>0</td>\n",
              "      <td>y</td>\n",
              "      <td>1.80</td>\n",
              "      <td>y</td>\n",
              "      <td>139</td>\n",
              "      <td>y</td>\n",
              "      <td>0.97</td>\n",
              "      <td>y</td>\n",
              "      <td>143</td>\n",
              "      <td>n</td>\n",
              "      <td>?</td>\n",
              "    </tr>\n",
              "  </tbody>\n",
              "</table>\n",
              "</div>"
            ],
            "text/plain": [
              "        status age sex on_thyroxine  ... FTI_measured  FTI TBG_measured TBG\n",
              "3158  negative  58   F            f  ...            y   95            n   ?\n",
              "3159  negative  29   F            f  ...            y   98            n   ?\n",
              "3160  negative  77   M            f  ...            y  104            n   ?\n",
              "3161  negative  74   F            f  ...            y  137            n   ?\n",
              "3162  negative  56   F            t  ...            y  143            n   ?\n",
              "\n",
              "[5 rows x 26 columns]"
            ]
          },
          "metadata": {
            "tags": []
          },
          "execution_count": 7
        }
      ]
    },
    {
      "cell_type": "code",
      "metadata": {
        "colab": {
          "base_uri": "https://localhost:8080/"
        },
        "id": "PGoxpsUcJuDG",
        "outputId": "e1ce02f2-53d2-4548-a511-4ad62ddf9d8e"
      },
      "source": [
        "# checking data types\n",
        "hypothyroid_data.dtypes"
      ],
      "execution_count": 8,
      "outputs": [
        {
          "output_type": "execute_result",
          "data": {
            "text/plain": [
              "status                       object\n",
              "age                          object\n",
              "sex                          object\n",
              "on_thyroxine                 object\n",
              "query_on_thyroxine           object\n",
              "on_antithyroid_medication    object\n",
              "thyroid_surgery              object\n",
              "query_hypothyroid            object\n",
              "query_hyperthyroid           object\n",
              "pregnant                     object\n",
              "sick                         object\n",
              "tumor                        object\n",
              "lithium                      object\n",
              "goitre                       object\n",
              "TSH_measured                 object\n",
              "TSH                          object\n",
              "T3_measured                  object\n",
              "T3                           object\n",
              "TT4_measured                 object\n",
              "TT4                          object\n",
              "T4U_measured                 object\n",
              "T4U                          object\n",
              "FTI_measured                 object\n",
              "FTI                          object\n",
              "TBG_measured                 object\n",
              "TBG                          object\n",
              "dtype: object"
            ]
          },
          "metadata": {
            "tags": []
          },
          "execution_count": 8
        }
      ]
    },
    {
      "cell_type": "markdown",
      "metadata": {
        "id": "NrdJOMgmIwtZ"
      },
      "source": [
        "# 4. External Data Source Validation"
      ]
    },
    {
      "cell_type": "markdown",
      "metadata": {
        "id": "A-LqKeCIIyYW"
      },
      "source": [
        "The dataset can be found in the following kaggle [link](https://www.kaggle.com/shivachandel/kc-Thyroid-data). "
      ]
    },
    {
      "cell_type": "markdown",
      "metadata": {
        "id": "oQ1sU1TkI8IM"
      },
      "source": [
        "# 5. Tidying the Dataset"
      ]
    },
    {
      "cell_type": "code",
      "metadata": {
        "id": "n8-dW4sQWzbc"
      },
      "source": [
        "# replacing the question marks with null values\n",
        "#\n",
        "hypothyroid_data.replace('?',np.nan,inplace=True)"
      ],
      "execution_count": 9,
      "outputs": []
    },
    {
      "cell_type": "code",
      "metadata": {
        "colab": {
          "base_uri": "https://localhost:8080/"
        },
        "id": "-nAd3hC24hwf",
        "outputId": "57ec59c0-3f80-422a-a94a-1967cf8c4225"
      },
      "source": [
        "hypothyroid_data['sex'].unique()"
      ],
      "execution_count": 10,
      "outputs": [
        {
          "output_type": "execute_result",
          "data": {
            "text/plain": [
              "array(['M', 'F', nan], dtype=object)"
            ]
          },
          "metadata": {
            "tags": []
          },
          "execution_count": 10
        }
      ]
    },
    {
      "cell_type": "code",
      "metadata": {
        "id": "IQivYmg954by"
      },
      "source": [
        "# replacing values in sex with numerals\n",
        "hypothyroid_data['sex'].replace('M',0,inplace=True)\n",
        "hypothyroid_data['sex'].replace('F',1,inplace=True)"
      ],
      "execution_count": 11,
      "outputs": []
    },
    {
      "cell_type": "code",
      "metadata": {
        "id": "p1lmY_e7tPwM"
      },
      "source": [
        "# encoding categorical variables to numerical\n",
        "from sklearn.preprocessing import LabelEncoder\n",
        "labelencoder = LabelEncoder()\n",
        "hypothyroid_data['status']=labelencoder.fit_transform(hypothyroid_data['status'])\n",
        "hypothyroid_data['on_thyroxine']=labelencoder.fit_transform(hypothyroid_data['on_thyroxine'])\n",
        "hypothyroid_data['query_on_thyroxine']=labelencoder.fit_transform(hypothyroid_data['query_on_thyroxine'])\n",
        "hypothyroid_data['on_antithyroid_medication']=labelencoder.fit_transform(hypothyroid_data['on_antithyroid_medication'])\n",
        "hypothyroid_data['thyroid_surgery']=labelencoder.fit_transform(hypothyroid_data['thyroid_surgery'])\n",
        "hypothyroid_data['query_hypothyroid']=labelencoder.fit_transform(hypothyroid_data['query_hypothyroid'])\n",
        "hypothyroid_data['query_hyperthyroid']=labelencoder.fit_transform(hypothyroid_data['query_hyperthyroid'])\n",
        "hypothyroid_data['pregnant']=labelencoder.fit_transform(hypothyroid_data['pregnant'])\n",
        "hypothyroid_data['sick']=labelencoder.fit_transform(hypothyroid_data['sick'])\n",
        "hypothyroid_data['tumor']=labelencoder.fit_transform(hypothyroid_data['tumor'])\n",
        "hypothyroid_data['lithium']=labelencoder.fit_transform(hypothyroid_data['lithium'])\n",
        "hypothyroid_data['goitre']=labelencoder.fit_transform(hypothyroid_data['goitre'])\n",
        "hypothyroid_data['TSH_measured']=labelencoder.fit_transform(hypothyroid_data['TSH_measured'])\n",
        "hypothyroid_data['T3_measured']=labelencoder.fit_transform(hypothyroid_data['T3_measured'])\n",
        "hypothyroid_data['TT4_measured']=labelencoder.fit_transform(hypothyroid_data['TT4_measured'])   \n",
        "hypothyroid_data['T4U_measured']=labelencoder.fit_transform(hypothyroid_data['T4U_measured']) \n",
        "hypothyroid_data['FTI_measured']=labelencoder.fit_transform(hypothyroid_data['FTI_measured']) "
      ],
      "execution_count": 12,
      "outputs": []
    },
    {
      "cell_type": "code",
      "metadata": {
        "id": "-_O1LLEQHHxw"
      },
      "source": [
        "hypothyroid_data[['age','TSH',\t'T3',\t'TT4','T4U','FTI']]=hypothyroid_data[['age','TSH',\t'T3',\t'TT4','T4U','FTI']].astype(float)"
      ],
      "execution_count": 13,
      "outputs": []
    },
    {
      "cell_type": "code",
      "metadata": {
        "colab": {
          "base_uri": "https://localhost:8080/"
        },
        "id": "D-4I__6Os4C5",
        "outputId": "ac3ca709-8228-4db7-f070-a998640e62d6"
      },
      "source": [
        "# Identifying missing data\n",
        "hypothyroid_data.isnull().sum()"
      ],
      "execution_count": 14,
      "outputs": [
        {
          "output_type": "execute_result",
          "data": {
            "text/plain": [
              "status                          0\n",
              "age                           446\n",
              "sex                            73\n",
              "on_thyroxine                    0\n",
              "query_on_thyroxine              0\n",
              "on_antithyroid_medication       0\n",
              "thyroid_surgery                 0\n",
              "query_hypothyroid               0\n",
              "query_hyperthyroid              0\n",
              "pregnant                        0\n",
              "sick                            0\n",
              "tumor                           0\n",
              "lithium                         0\n",
              "goitre                          0\n",
              "TSH_measured                    0\n",
              "TSH                           468\n",
              "T3_measured                     0\n",
              "T3                            695\n",
              "TT4_measured                    0\n",
              "TT4                           249\n",
              "T4U_measured                    0\n",
              "T4U                           248\n",
              "FTI_measured                    0\n",
              "FTI                           247\n",
              "TBG_measured                    0\n",
              "TBG                          2903\n",
              "dtype: int64"
            ]
          },
          "metadata": {
            "tags": []
          },
          "execution_count": 14
        }
      ]
    },
    {
      "cell_type": "code",
      "metadata": {
        "id": "dg9U0aNzNNQF"
      },
      "source": [
        "#dealing with missing values\n",
        "hypothyroid_data['age'].fillna(hypothyroid_data['age'].mean(),inplace=True)\n",
        "hypothyroid_data['TSH'].fillna(hypothyroid_data['TSH'].median(),inplace=True)\n",
        "hypothyroid_data['T3'].fillna(hypothyroid_data['T3'].median(),inplace=True)\n",
        "hypothyroid_data['TT4'].fillna(hypothyroid_data['TT4'].median(),inplace=True)\n",
        "hypothyroid_data['T4U'].fillna(hypothyroid_data['T4U'].median(),inplace=True)\n",
        "hypothyroid_data['FTI'].fillna(hypothyroid_data['FTI'].median(),inplace=True)\n",
        "hypothyroid_data['sex'].fillna(hypothyroid_data['sex'].median(),inplace=True)"
      ],
      "execution_count": 15,
      "outputs": []
    },
    {
      "cell_type": "code",
      "metadata": {
        "colab": {
          "base_uri": "https://localhost:8080/"
        },
        "id": "KVwSn9XeVfLZ",
        "outputId": "e9c00667-503e-4045-bda0-541b25759378"
      },
      "source": [
        "hypothyroid_data.isnull().sum()"
      ],
      "execution_count": 16,
      "outputs": [
        {
          "output_type": "execute_result",
          "data": {
            "text/plain": [
              "status                          0\n",
              "age                             0\n",
              "sex                             0\n",
              "on_thyroxine                    0\n",
              "query_on_thyroxine              0\n",
              "on_antithyroid_medication       0\n",
              "thyroid_surgery                 0\n",
              "query_hypothyroid               0\n",
              "query_hyperthyroid              0\n",
              "pregnant                        0\n",
              "sick                            0\n",
              "tumor                           0\n",
              "lithium                         0\n",
              "goitre                          0\n",
              "TSH_measured                    0\n",
              "TSH                             0\n",
              "T3_measured                     0\n",
              "T3                              0\n",
              "TT4_measured                    0\n",
              "TT4                             0\n",
              "T4U_measured                    0\n",
              "T4U                             0\n",
              "FTI_measured                    0\n",
              "FTI                             0\n",
              "TBG_measured                    0\n",
              "TBG                          2903\n",
              "dtype: int64"
            ]
          },
          "metadata": {
            "tags": []
          },
          "execution_count": 16
        }
      ]
    },
    {
      "cell_type": "code",
      "metadata": {
        "id": "_9-5opcRCvl7"
      },
      "source": [
        "# dropping the TBG data as most of it is missing\n",
        "hypothyroid_data.drop(labels=['TBG','TBG_measured'],axis=1,inplace=True)"
      ],
      "execution_count": 17,
      "outputs": []
    },
    {
      "cell_type": "code",
      "metadata": {
        "colab": {
          "base_uri": "https://localhost:8080/"
        },
        "id": "lX1SVn8IDifz",
        "outputId": "960a345c-0bfc-4c8a-c2c8-e46a44ce28ea"
      },
      "source": [
        "hypothyroid_data.columns"
      ],
      "execution_count": 18,
      "outputs": [
        {
          "output_type": "execute_result",
          "data": {
            "text/plain": [
              "Index(['status', 'age', 'sex', 'on_thyroxine', 'query_on_thyroxine',\n",
              "       'on_antithyroid_medication', 'thyroid_surgery', 'query_hypothyroid',\n",
              "       'query_hyperthyroid', 'pregnant', 'sick', 'tumor', 'lithium', 'goitre',\n",
              "       'TSH_measured', 'TSH', 'T3_measured', 'T3', 'TT4_measured', 'TT4',\n",
              "       'T4U_measured', 'T4U', 'FTI_measured', 'FTI'],\n",
              "      dtype='object')"
            ]
          },
          "metadata": {
            "tags": []
          },
          "execution_count": 18
        }
      ]
    },
    {
      "cell_type": "code",
      "metadata": {
        "colab": {
          "base_uri": "https://localhost:8080/"
        },
        "id": "-Y9a8lsDVZBX",
        "outputId": "46fda1c3-8e53-47dd-f6f7-f861e3d4fa03"
      },
      "source": [
        "#checking for duplicates\n",
        "hypothyroid_data.duplicated().sum()"
      ],
      "execution_count": 19,
      "outputs": [
        {
          "output_type": "execute_result",
          "data": {
            "text/plain": [
              "156"
            ]
          },
          "metadata": {
            "tags": []
          },
          "execution_count": 19
        }
      ]
    },
    {
      "cell_type": "code",
      "metadata": {
        "id": "G9VJdmaHVmP9"
      },
      "source": [
        "# dealing duplicates\n",
        "hypothyroid_data.drop_duplicates(inplace=True)"
      ],
      "execution_count": 20,
      "outputs": []
    },
    {
      "cell_type": "code",
      "metadata": {
        "colab": {
          "base_uri": "https://localhost:8080/"
        },
        "id": "nA38jKgcKRn5",
        "outputId": "8d7ef57f-7044-4ae7-8d7e-90a8cbf04d21"
      },
      "source": [
        "#confirming that each column has the right datatype\n",
        "hypothyroid_data.dtypes"
      ],
      "execution_count": 21,
      "outputs": [
        {
          "output_type": "execute_result",
          "data": {
            "text/plain": [
              "status                         int64\n",
              "age                          float64\n",
              "sex                          float64\n",
              "on_thyroxine                   int64\n",
              "query_on_thyroxine             int64\n",
              "on_antithyroid_medication      int64\n",
              "thyroid_surgery                int64\n",
              "query_hypothyroid              int64\n",
              "query_hyperthyroid             int64\n",
              "pregnant                       int64\n",
              "sick                           int64\n",
              "tumor                          int64\n",
              "lithium                        int64\n",
              "goitre                         int64\n",
              "TSH_measured                   int64\n",
              "TSH                          float64\n",
              "T3_measured                    int64\n",
              "T3                           float64\n",
              "TT4_measured                   int64\n",
              "TT4                          float64\n",
              "T4U_measured                   int64\n",
              "T4U                          float64\n",
              "FTI_measured                   int64\n",
              "FTI                          float64\n",
              "dtype: object"
            ]
          },
          "metadata": {
            "tags": []
          },
          "execution_count": 21
        }
      ]
    },
    {
      "cell_type": "code",
      "metadata": {
        "colab": {
          "base_uri": "https://localhost:8080/",
          "height": 350
        },
        "id": "T0Pbbst2DtqB",
        "outputId": "9090137b-aef9-482e-c1ef-b145e45f0f81"
      },
      "source": [
        "# checking for outliers\n",
        "import seaborn as sb\n",
        "\n",
        "sb.boxplot(hypothyroid_data['TSH'])"
      ],
      "execution_count": 22,
      "outputs": [
        {
          "output_type": "stream",
          "text": [
            "/usr/local/lib/python3.7/dist-packages/seaborn/_decorators.py:43: FutureWarning: Pass the following variable as a keyword arg: x. From version 0.12, the only valid positional argument will be `data`, and passing other arguments without an explicit keyword will result in an error or misinterpretation.\n",
            "  FutureWarning\n"
          ],
          "name": "stderr"
        },
        {
          "output_type": "execute_result",
          "data": {
            "text/plain": [
              "<matplotlib.axes._subplots.AxesSubplot at 0x7f442b6e7a90>"
            ]
          },
          "metadata": {
            "tags": []
          },
          "execution_count": 22
        },
        {
          "output_type": "display_data",
          "data": {
            "image/png": "[encoded data removed]",
            "text/plain": [
              "<Figure size 432x288 with 1 Axes>"
            ]
          },
          "metadata": {
            "tags": [],
            "needs_background": "light"
          }
        }
      ]
    },
    {
      "cell_type": "code",
      "metadata": {
        "colab": {
          "base_uri": "https://localhost:8080/",
          "height": 350
        },
        "id": "jhNNAS_TFziD",
        "outputId": "47f60dca-ce41-4980-e56b-92e7496a2afa"
      },
      "source": [
        "sb.boxplot(hypothyroid_data['FTI'])"
      ],
      "execution_count": 23,
      "outputs": [
        {
          "output_type": "stream",
          "text": [
            "/usr/local/lib/python3.7/dist-packages/seaborn/_decorators.py:43: FutureWarning: Pass the following variable as a keyword arg: x. From version 0.12, the only valid positional argument will be `data`, and passing other arguments without an explicit keyword will result in an error or misinterpretation.\n",
            "  FutureWarning\n"
          ],
          "name": "stderr"
        },
        {
          "output_type": "execute_result",
          "data": {
            "text/plain": [
              "<matplotlib.axes._subplots.AxesSubplot at 0x7f442b621b10>"
            ]
          },
          "metadata": {
            "tags": []
          },
          "execution_count": 23
        },
        {
          "output_type": "display_data",
          "data": {
            "image/png": "[encoded data removed]",
            "text/plain": [
              "<Figure size 432x288 with 1 Axes>"
            ]
          },
          "metadata": {
            "tags": [],
            "needs_background": "light"
          }
        }
      ]
    },
    {
      "cell_type": "code",
      "metadata": {
        "colab": {
          "base_uri": "https://localhost:8080/",
          "height": 350
        },
        "id": "B6M_yVSdF_8r",
        "outputId": "91c8207c-f9fa-49fc-95d6-55f8fa880a66"
      },
      "source": [
        "sb.boxplot(hypothyroid_data['T3'])"
      ],
      "execution_count": 24,
      "outputs": [
        {
          "output_type": "stream",
          "text": [
            "/usr/local/lib/python3.7/dist-packages/seaborn/_decorators.py:43: FutureWarning: Pass the following variable as a keyword arg: x. From version 0.12, the only valid positional argument will be `data`, and passing other arguments without an explicit keyword will result in an error or misinterpretation.\n",
            "  FutureWarning\n"
          ],
          "name": "stderr"
        },
        {
          "output_type": "execute_result",
          "data": {
            "text/plain": [
              "<matplotlib.axes._subplots.AxesSubplot at 0x7f442b179110>"
            ]
          },
          "metadata": {
            "tags": []
          },
          "execution_count": 24
        },
        {
          "output_type": "display_data",
          "data": {
            "image/png": "[encoded data removed]",
            "text/plain": [
              "<Figure size 432x288 with 1 Axes>"
            ]
          },
          "metadata": {
            "tags": [],
            "needs_background": "light"
          }
        }
      ]
    },
    {
      "cell_type": "code",
      "metadata": {
        "colab": {
          "base_uri": "https://localhost:8080/",
          "height": 350
        },
        "id": "ZtQ57ey9GEzU",
        "outputId": "dbb79a36-61ac-4f49-b3ce-a7a6158bad20"
      },
      "source": [
        "sb.boxplot(hypothyroid_data['TT4'])"
      ],
      "execution_count": 25,
      "outputs": [
        {
          "output_type": "stream",
          "text": [
            "/usr/local/lib/python3.7/dist-packages/seaborn/_decorators.py:43: FutureWarning: Pass the following variable as a keyword arg: x. From version 0.12, the only valid positional argument will be `data`, and passing other arguments without an explicit keyword will result in an error or misinterpretation.\n",
            "  FutureWarning\n"
          ],
          "name": "stderr"
        },
        {
          "output_type": "execute_result",
          "data": {
            "text/plain": [
              "<matplotlib.axes._subplots.AxesSubplot at 0x7f442b0e6490>"
            ]
          },
          "metadata": {
            "tags": []
          },
          "execution_count": 25
        },
        {
          "output_type": "display_data",
          "data": {
            "image/png": "[encoded data removed]",
            "text/plain": [
              "<Figure size 432x288 with 1 Axes>"
            ]
          },
          "metadata": {
            "tags": [],
            "needs_background": "light"
          }
        }
      ]
    },
    {
      "cell_type": "code",
      "metadata": {
        "colab": {
          "base_uri": "https://localhost:8080/",
          "height": 350
        },
        "id": "VJvafLeKGLpp",
        "outputId": "44baf15e-2b1d-4dd4-82ba-fa914b163189"
      },
      "source": [
        "sb.boxplot(hypothyroid_data['T4U'])"
      ],
      "execution_count": 26,
      "outputs": [
        {
          "output_type": "stream",
          "text": [
            "/usr/local/lib/python3.7/dist-packages/seaborn/_decorators.py:43: FutureWarning: Pass the following variable as a keyword arg: x. From version 0.12, the only valid positional argument will be `data`, and passing other arguments without an explicit keyword will result in an error or misinterpretation.\n",
            "  FutureWarning\n"
          ],
          "name": "stderr"
        },
        {
          "output_type": "execute_result",
          "data": {
            "text/plain": [
              "<matplotlib.axes._subplots.AxesSubplot at 0x7f442b16b310>"
            ]
          },
          "metadata": {
            "tags": []
          },
          "execution_count": 26
        },
        {
          "output_type": "display_data",
          "data": {
            "image/png": "[encoded data removed]",
            "text/plain": [
              "<Figure size 432x288 with 1 Axes>"
            ]
          },
          "metadata": {
            "tags": [],
            "needs_background": "light"
          }
        }
      ]
    },
    {
      "cell_type": "markdown",
      "metadata": {
        "id": "rF2ABPsHUtbZ"
      },
      "source": [
        "## 6. Exploratory Analysis"
      ]
    },
    {
      "cell_type": "code",
      "metadata": {
        "colab": {
          "base_uri": "https://localhost:8080/",
          "height": 317
        },
        "id": "vMzypmfHEjCc",
        "outputId": "57d7ef4c-8df8-4615-8060-7fa1a95eaab8"
      },
      "source": [
        "# getting description of the data\n",
        "hypothyroid_data.describe()\n"
      ],
      "execution_count": 27,
      "outputs": [
        {
          "output_type": "execute_result",
          "data": {
            "text/html": [
              "<div>\n",
              "<style scoped>\n",
              "    .dataframe tbody tr th:only-of-type {\n",
              "        vertical-align: middle;\n",
              "    }\n",
              "\n",
              "    .dataframe tbody tr th {\n",
              "        vertical-align: top;\n",
              "    }\n",
              "\n",
              "    .dataframe thead th {\n",
              "        text-align: right;\n",
              "    }\n",
              "</style>\n",
              "<table border=\"1\" class=\"dataframe\">\n",
              "  <thead>\n",
              "    <tr style=\"text-align: right;\">\n",
              "      <th></th>\n",
              "      <th>status</th>\n",
              "      <th>age</th>\n",
              "      <th>sex</th>\n",
              "      <th>on_thyroxine</th>\n",
              "      <th>query_on_thyroxine</th>\n",
              "      <th>on_antithyroid_medication</th>\n",
              "      <th>thyroid_surgery</th>\n",
              "      <th>query_hypothyroid</th>\n",
              "      <th>query_hyperthyroid</th>\n",
              "      <th>pregnant</th>\n",
              "      <th>sick</th>\n",
              "      <th>tumor</th>\n",
              "      <th>lithium</th>\n",
              "      <th>goitre</th>\n",
              "      <th>TSH_measured</th>\n",
              "      <th>TSH</th>\n",
              "      <th>T3_measured</th>\n",
              "      <th>T3</th>\n",
              "      <th>TT4_measured</th>\n",
              "      <th>TT4</th>\n",
              "      <th>T4U_measured</th>\n",
              "      <th>T4U</th>\n",
              "      <th>FTI_measured</th>\n",
              "      <th>FTI</th>\n",
              "    </tr>\n",
              "  </thead>\n",
              "  <tbody>\n",
              "    <tr>\n",
              "      <th>count</th>\n",
              "      <td>3007.000000</td>\n",
              "      <td>3007.000000</td>\n",
              "      <td>3007.000000</td>\n",
              "      <td>3007.000000</td>\n",
              "      <td>3007.000000</td>\n",
              "      <td>3007.000000</td>\n",
              "      <td>3007.000000</td>\n",
              "      <td>3007.000000</td>\n",
              "      <td>3007.000000</td>\n",
              "      <td>3007.000000</td>\n",
              "      <td>3007.000000</td>\n",
              "      <td>3007.000000</td>\n",
              "      <td>3007.000000</td>\n",
              "      <td>3007.000000</td>\n",
              "      <td>3007.000000</td>\n",
              "      <td>3007.000000</td>\n",
              "      <td>3007.000000</td>\n",
              "      <td>3007.000000</td>\n",
              "      <td>3007.000000</td>\n",
              "      <td>3007.000000</td>\n",
              "      <td>3007.000000</td>\n",
              "      <td>3007.000000</td>\n",
              "      <td>3007.000000</td>\n",
              "      <td>3007.000000</td>\n",
              "    </tr>\n",
              "    <tr>\n",
              "      <th>mean</th>\n",
              "      <td>0.953109</td>\n",
              "      <td>51.350030</td>\n",
              "      <td>0.704357</td>\n",
              "      <td>0.148321</td>\n",
              "      <td>0.018291</td>\n",
              "      <td>0.013967</td>\n",
              "      <td>0.034253</td>\n",
              "      <td>0.078151</td>\n",
              "      <td>0.075491</td>\n",
              "      <td>0.020286</td>\n",
              "      <td>0.032258</td>\n",
              "      <td>0.013302</td>\n",
              "      <td>0.000665</td>\n",
              "      <td>0.031593</td>\n",
              "      <td>0.874958</td>\n",
              "      <td>5.170442</td>\n",
              "      <td>0.800133</td>\n",
              "      <td>1.906950</td>\n",
              "      <td>0.946458</td>\n",
              "      <td>108.454905</td>\n",
              "      <td>0.946791</td>\n",
              "      <td>0.976625</td>\n",
              "      <td>0.947123</td>\n",
              "      <td>115.040206</td>\n",
              "    </tr>\n",
              "    <tr>\n",
              "      <th>std</th>\n",
              "      <td>0.211440</td>\n",
              "      <td>17.864731</td>\n",
              "      <td>0.456407</td>\n",
              "      <td>0.355477</td>\n",
              "      <td>0.134023</td>\n",
              "      <td>0.117375</td>\n",
              "      <td>0.181910</td>\n",
              "      <td>0.268454</td>\n",
              "      <td>0.264225</td>\n",
              "      <td>0.141000</td>\n",
              "      <td>0.176714</td>\n",
              "      <td>0.114585</td>\n",
              "      <td>0.025786</td>\n",
              "      <td>0.174943</td>\n",
              "      <td>0.330821</td>\n",
              "      <td>22.534054</td>\n",
              "      <td>0.399967</td>\n",
              "      <td>0.877747</td>\n",
              "      <td>0.225149</td>\n",
              "      <td>43.408647</td>\n",
              "      <td>0.224488</td>\n",
              "      <td>0.219740</td>\n",
              "      <td>0.223824</td>\n",
              "      <td>58.566137</td>\n",
              "    </tr>\n",
              "    <tr>\n",
              "      <th>min</th>\n",
              "      <td>0.000000</td>\n",
              "      <td>1.000000</td>\n",
              "      <td>0.000000</td>\n",
              "      <td>0.000000</td>\n",
              "      <td>0.000000</td>\n",
              "      <td>0.000000</td>\n",
              "      <td>0.000000</td>\n",
              "      <td>0.000000</td>\n",
              "      <td>0.000000</td>\n",
              "      <td>0.000000</td>\n",
              "      <td>0.000000</td>\n",
              "      <td>0.000000</td>\n",
              "      <td>0.000000</td>\n",
              "      <td>0.000000</td>\n",
              "      <td>0.000000</td>\n",
              "      <td>0.000000</td>\n",
              "      <td>0.000000</td>\n",
              "      <td>0.000000</td>\n",
              "      <td>0.000000</td>\n",
              "      <td>2.000000</td>\n",
              "      <td>0.000000</td>\n",
              "      <td>0.000000</td>\n",
              "      <td>0.000000</td>\n",
              "      <td>0.000000</td>\n",
              "    </tr>\n",
              "    <tr>\n",
              "      <th>25%</th>\n",
              "      <td>1.000000</td>\n",
              "      <td>38.000000</td>\n",
              "      <td>0.000000</td>\n",
              "      <td>0.000000</td>\n",
              "      <td>0.000000</td>\n",
              "      <td>0.000000</td>\n",
              "      <td>0.000000</td>\n",
              "      <td>0.000000</td>\n",
              "      <td>0.000000</td>\n",
              "      <td>0.000000</td>\n",
              "      <td>0.000000</td>\n",
              "      <td>0.000000</td>\n",
              "      <td>0.000000</td>\n",
              "      <td>0.000000</td>\n",
              "      <td>1.000000</td>\n",
              "      <td>0.000000</td>\n",
              "      <td>1.000000</td>\n",
              "      <td>1.500000</td>\n",
              "      <td>1.000000</td>\n",
              "      <td>85.000000</td>\n",
              "      <td>1.000000</td>\n",
              "      <td>0.860000</td>\n",
              "      <td>1.000000</td>\n",
              "      <td>92.000000</td>\n",
              "    </tr>\n",
              "    <tr>\n",
              "      <th>50%</th>\n",
              "      <td>1.000000</td>\n",
              "      <td>51.154214</td>\n",
              "      <td>1.000000</td>\n",
              "      <td>0.000000</td>\n",
              "      <td>0.000000</td>\n",
              "      <td>0.000000</td>\n",
              "      <td>0.000000</td>\n",
              "      <td>0.000000</td>\n",
              "      <td>0.000000</td>\n",
              "      <td>0.000000</td>\n",
              "      <td>0.000000</td>\n",
              "      <td>0.000000</td>\n",
              "      <td>0.000000</td>\n",
              "      <td>0.000000</td>\n",
              "      <td>1.000000</td>\n",
              "      <td>0.700000</td>\n",
              "      <td>1.000000</td>\n",
              "      <td>1.800000</td>\n",
              "      <td>1.000000</td>\n",
              "      <td>104.000000</td>\n",
              "      <td>1.000000</td>\n",
              "      <td>0.960000</td>\n",
              "      <td>1.000000</td>\n",
              "      <td>107.000000</td>\n",
              "    </tr>\n",
              "    <tr>\n",
              "      <th>75%</th>\n",
              "      <td>1.000000</td>\n",
              "      <td>64.000000</td>\n",
              "      <td>1.000000</td>\n",
              "      <td>0.000000</td>\n",
              "      <td>0.000000</td>\n",
              "      <td>0.000000</td>\n",
              "      <td>0.000000</td>\n",
              "      <td>0.000000</td>\n",
              "      <td>0.000000</td>\n",
              "      <td>0.000000</td>\n",
              "      <td>0.000000</td>\n",
              "      <td>0.000000</td>\n",
              "      <td>0.000000</td>\n",
              "      <td>0.000000</td>\n",
              "      <td>1.000000</td>\n",
              "      <td>1.800000</td>\n",
              "      <td>1.000000</td>\n",
              "      <td>2.200000</td>\n",
              "      <td>1.000000</td>\n",
              "      <td>125.000000</td>\n",
              "      <td>1.000000</td>\n",
              "      <td>1.060000</td>\n",
              "      <td>1.000000</td>\n",
              "      <td>126.000000</td>\n",
              "    </tr>\n",
              "    <tr>\n",
              "      <th>max</th>\n",
              "      <td>1.000000</td>\n",
              "      <td>98.000000</td>\n",
              "      <td>1.000000</td>\n",
              "      <td>1.000000</td>\n",
              "      <td>1.000000</td>\n",
              "      <td>1.000000</td>\n",
              "      <td>1.000000</td>\n",
              "      <td>1.000000</td>\n",
              "      <td>1.000000</td>\n",
              "      <td>1.000000</td>\n",
              "      <td>1.000000</td>\n",
              "      <td>1.000000</td>\n",
              "      <td>1.000000</td>\n",
              "      <td>1.000000</td>\n",
              "      <td>1.000000</td>\n",
              "      <td>530.000000</td>\n",
              "      <td>1.000000</td>\n",
              "      <td>10.200000</td>\n",
              "      <td>1.000000</td>\n",
              "      <td>450.000000</td>\n",
              "      <td>1.000000</td>\n",
              "      <td>2.210000</td>\n",
              "      <td>1.000000</td>\n",
              "      <td>881.000000</td>\n",
              "    </tr>\n",
              "  </tbody>\n",
              "</table>\n",
              "</div>"
            ],
            "text/plain": [
              "            status          age  ...  FTI_measured          FTI\n",
              "count  3007.000000  3007.000000  ...   3007.000000  3007.000000\n",
              "mean      0.953109    51.350030  ...      0.947123   115.040206\n",
              "std       0.211440    17.864731  ...      0.223824    58.566137\n",
              "min       0.000000     1.000000  ...      0.000000     0.000000\n",
              "25%       1.000000    38.000000  ...      1.000000    92.000000\n",
              "50%       1.000000    51.154214  ...      1.000000   107.000000\n",
              "75%       1.000000    64.000000  ...      1.000000   126.000000\n",
              "max       1.000000    98.000000  ...      1.000000   881.000000\n",
              "\n",
              "[8 rows x 24 columns]"
            ]
          },
          "metadata": {
            "tags": []
          },
          "execution_count": 27
        }
      ]
    },
    {
      "cell_type": "code",
      "metadata": {
        "colab": {
          "base_uri": "https://localhost:8080/",
          "height": 100
        },
        "id": "IVCBmN_nEtBs",
        "outputId": "5a5a3d38-3a60-439c-d0a9-6e9eea552e19"
      },
      "source": [
        "#mode\n",
        "hypothyroid_data.mode()"
      ],
      "execution_count": 28,
      "outputs": [
        {
          "output_type": "execute_result",
          "data": {
            "text/html": [
              "<div>\n",
              "<style scoped>\n",
              "    .dataframe tbody tr th:only-of-type {\n",
              "        vertical-align: middle;\n",
              "    }\n",
              "\n",
              "    .dataframe tbody tr th {\n",
              "        vertical-align: top;\n",
              "    }\n",
              "\n",
              "    .dataframe thead th {\n",
              "        text-align: right;\n",
              "    }\n",
              "</style>\n",
              "<table border=\"1\" class=\"dataframe\">\n",
              "  <thead>\n",
              "    <tr style=\"text-align: right;\">\n",
              "      <th></th>\n",
              "      <th>status</th>\n",
              "      <th>age</th>\n",
              "      <th>sex</th>\n",
              "      <th>on_thyroxine</th>\n",
              "      <th>query_on_thyroxine</th>\n",
              "      <th>on_antithyroid_medication</th>\n",
              "      <th>thyroid_surgery</th>\n",
              "      <th>query_hypothyroid</th>\n",
              "      <th>query_hyperthyroid</th>\n",
              "      <th>pregnant</th>\n",
              "      <th>sick</th>\n",
              "      <th>tumor</th>\n",
              "      <th>lithium</th>\n",
              "      <th>goitre</th>\n",
              "      <th>TSH_measured</th>\n",
              "      <th>TSH</th>\n",
              "      <th>T3_measured</th>\n",
              "      <th>T3</th>\n",
              "      <th>TT4_measured</th>\n",
              "      <th>TT4</th>\n",
              "      <th>T4U_measured</th>\n",
              "      <th>T4U</th>\n",
              "      <th>FTI_measured</th>\n",
              "      <th>FTI</th>\n",
              "    </tr>\n",
              "  </thead>\n",
              "  <tbody>\n",
              "    <tr>\n",
              "      <th>0</th>\n",
              "      <td>1</td>\n",
              "      <td>51.154214</td>\n",
              "      <td>1.0</td>\n",
              "      <td>0</td>\n",
              "      <td>0</td>\n",
              "      <td>0</td>\n",
              "      <td>0</td>\n",
              "      <td>0</td>\n",
              "      <td>0</td>\n",
              "      <td>0</td>\n",
              "      <td>0</td>\n",
              "      <td>0</td>\n",
              "      <td>0</td>\n",
              "      <td>0</td>\n",
              "      <td>1</td>\n",
              "      <td>0.0</td>\n",
              "      <td>1</td>\n",
              "      <td>1.8</td>\n",
              "      <td>1</td>\n",
              "      <td>104.0</td>\n",
              "      <td>1</td>\n",
              "      <td>0.96</td>\n",
              "      <td>1</td>\n",
              "      <td>107.0</td>\n",
              "    </tr>\n",
              "  </tbody>\n",
              "</table>\n",
              "</div>"
            ],
            "text/plain": [
              "   status        age  sex  ...   T4U  FTI_measured    FTI\n",
              "0       1  51.154214  1.0  ...  0.96             1  107.0\n",
              "\n",
              "[1 rows x 24 columns]"
            ]
          },
          "metadata": {
            "tags": []
          },
          "execution_count": 28
        }
      ]
    },
    {
      "cell_type": "code",
      "metadata": {
        "colab": {
          "base_uri": "https://localhost:8080/",
          "height": 282
        },
        "id": "txB_fo2PvQxP",
        "outputId": "ed9d9532-283a-4158-9fc9-5496ce372152"
      },
      "source": [
        "hypothyroid_data['status'].value_counts().plot(kind='bar')"
      ],
      "execution_count": 29,
      "outputs": [
        {
          "output_type": "execute_result",
          "data": {
            "text/plain": [
              "<matplotlib.axes._subplots.AxesSubplot at 0x7f442af8d7d0>"
            ]
          },
          "metadata": {
            "tags": []
          },
          "execution_count": 29
        },
        {
          "output_type": "display_data",
          "data": {
            "image/png": "[encoded data removed]",
            "text/plain": [
              "<Figure size 432x288 with 1 Axes>"
            ]
          },
          "metadata": {
            "tags": [],
            "needs_background": "light"
          }
        }
      ]
    },
    {
      "cell_type": "code",
      "metadata": {
        "colab": {
          "base_uri": "https://localhost:8080/",
          "height": 288
        },
        "id": "U5iScgFd2CCU",
        "outputId": "05fd173a-7981-4c31-e297-abf7f377bd90"
      },
      "source": [
        "hypothyroid_data['sex'].value_counts().plot(kind='bar')"
      ],
      "execution_count": 30,
      "outputs": [
        {
          "output_type": "execute_result",
          "data": {
            "text/plain": [
              "<matplotlib.axes._subplots.AxesSubplot at 0x7f442af04c90>"
            ]
          },
          "metadata": {
            "tags": []
          },
          "execution_count": 30
        },
        {
          "output_type": "display_data",
          "data": {
            "image/png": "[encoded data removed]",
            "text/plain": [
              "<Figure size 432x288 with 1 Axes>"
            ]
          },
          "metadata": {
            "tags": [],
            "needs_background": "light"
          }
        }
      ]
    },
    {
      "cell_type": "code",
      "metadata": {
        "colab": {
          "base_uri": "https://localhost:8080/",
          "height": 279
        },
        "id": "3-NwtXVg2krh",
        "outputId": "7592735d-0bac-480b-b84a-40c97ca7154b"
      },
      "source": [
        "hypothyroid_data['on_thyroxine'].value_counts().plot(kind='bar')"
      ],
      "execution_count": 31,
      "outputs": [
        {
          "output_type": "execute_result",
          "data": {
            "text/plain": [
              "<matplotlib.axes._subplots.AxesSubplot at 0x7f442aef6150>"
            ]
          },
          "metadata": {
            "tags": []
          },
          "execution_count": 31
        },
        {
          "output_type": "display_data",
          "data": {
            "image/png": "[encoded data removed]",
            "text/plain": [
              "<Figure size 432x288 with 1 Axes>"
            ]
          },
          "metadata": {
            "tags": [],
            "needs_background": "light"
          }
        }
      ]
    },
    {
      "cell_type": "code",
      "metadata": {
        "colab": {
          "base_uri": "https://localhost:8080/",
          "height": 279
        },
        "id": "0poaOlyH3I9H",
        "outputId": "8061c5cb-b6c0-4267-976f-6a7d9aabc23b"
      },
      "source": [
        "hypothyroid_data['query_on_thyroxine'].value_counts().plot(kind='bar')"
      ],
      "execution_count": 32,
      "outputs": [
        {
          "output_type": "execute_result",
          "data": {
            "text/plain": [
              "<matplotlib.axes._subplots.AxesSubplot at 0x7f442ae5dfd0>"
            ]
          },
          "metadata": {
            "tags": []
          },
          "execution_count": 32
        },
        {
          "output_type": "display_data",
          "data": {
            "image/png": "[encoded data removed]",
            "text/plain": [
              "<Figure size 432x288 with 1 Axes>"
            ]
          },
          "metadata": {
            "tags": [],
            "needs_background": "light"
          }
        }
      ]
    },
    {
      "cell_type": "code",
      "metadata": {
        "colab": {
          "base_uri": "https://localhost:8080/",
          "height": 279
        },
        "id": "iJoSy4wx3sbH",
        "outputId": "d8edba44-4be6-4d8f-dbb5-7d9f443a21e0"
      },
      "source": [
        "hypothyroid_data['on_antithyroid_medication'].value_counts().plot(kind='bar')"
      ],
      "execution_count": 33,
      "outputs": [
        {
          "output_type": "execute_result",
          "data": {
            "text/plain": [
              "<matplotlib.axes._subplots.AxesSubplot at 0x7f442aef68d0>"
            ]
          },
          "metadata": {
            "tags": []
          },
          "execution_count": 33
        },
        {
          "output_type": "display_data",
          "data": {
            "image/png": "[encoded data removed]",
            "text/plain": [
              "<Figure size 432x288 with 1 Axes>"
            ]
          },
          "metadata": {
            "tags": [],
            "needs_background": "light"
          }
        }
      ]
    },
    {
      "cell_type": "code",
      "metadata": {
        "colab": {
          "base_uri": "https://localhost:8080/",
          "height": 279
        },
        "id": "cLnaMcsI37bN",
        "outputId": "bd5580f5-04b0-4b16-82cc-3ebea9ac4946"
      },
      "source": [
        "hypothyroid_data['thyroid_surgery'].value_counts().plot(kind='bar')"
      ],
      "execution_count": 34,
      "outputs": [
        {
          "output_type": "execute_result",
          "data": {
            "text/plain": [
              "<matplotlib.axes._subplots.AxesSubplot at 0x7f442ad480d0>"
            ]
          },
          "metadata": {
            "tags": []
          },
          "execution_count": 34
        },
        {
          "output_type": "display_data",
          "data": {
            "image/png": "[encoded data removed]",
            "text/plain": [
              "<Figure size 432x288 with 1 Axes>"
            ]
          },
          "metadata": {
            "tags": [],
            "needs_background": "light"
          }
        }
      ]
    },
    {
      "cell_type": "code",
      "metadata": {
        "colab": {
          "base_uri": "https://localhost:8080/",
          "height": 279
        },
        "id": "qqWTc6il4ETq",
        "outputId": "c9499db0-6853-431c-c0bd-a313c9c1192e"
      },
      "source": [
        "hypothyroid_data['query_hypothyroid'].value_counts().plot(kind='bar')"
      ],
      "execution_count": 35,
      "outputs": [
        {
          "output_type": "execute_result",
          "data": {
            "text/plain": [
              "<matplotlib.axes._subplots.AxesSubplot at 0x7f442ad34fd0>"
            ]
          },
          "metadata": {
            "tags": []
          },
          "execution_count": 35
        },
        {
          "output_type": "display_data",
          "data": {
            "image/png": "[encoded data removed]",
            "text/plain": [
              "<Figure size 432x288 with 1 Axes>"
            ]
          },
          "metadata": {
            "tags": [],
            "needs_background": "light"
          }
        }
      ]
    },
    {
      "cell_type": "code",
      "metadata": {
        "colab": {
          "base_uri": "https://localhost:8080/",
          "height": 279
        },
        "id": "B17x-qaJ58KQ",
        "outputId": "3cd6f399-185f-45e3-e02a-7387dead9400"
      },
      "source": [
        "hypothyroid_data['query_hyperthyroid'].value_counts().plot(kind='bar')"
      ],
      "execution_count": 36,
      "outputs": [
        {
          "output_type": "execute_result",
          "data": {
            "text/plain": [
              "<matplotlib.axes._subplots.AxesSubplot at 0x7f442ac96dd0>"
            ]
          },
          "metadata": {
            "tags": []
          },
          "execution_count": 36
        },
        {
          "output_type": "display_data",
          "data": {
            "image/png": "[encoded data removed]",
            "text/plain": [
              "<Figure size 432x288 with 1 Axes>"
            ]
          },
          "metadata": {
            "tags": [],
            "needs_background": "light"
          }
        }
      ]
    },
    {
      "cell_type": "code",
      "metadata": {
        "colab": {
          "base_uri": "https://localhost:8080/",
          "height": 279
        },
        "id": "-920JWRZ6Sk0",
        "outputId": "9f2fbc90-dc8a-4ee8-8795-fb92812074f9"
      },
      "source": [
        "hypothyroid_data['pregnant'].value_counts().plot(kind='bar')"
      ],
      "execution_count": 37,
      "outputs": [
        {
          "output_type": "execute_result",
          "data": {
            "text/plain": [
              "<matplotlib.axes._subplots.AxesSubplot at 0x7f442ac08110>"
            ]
          },
          "metadata": {
            "tags": []
          },
          "execution_count": 37
        },
        {
          "output_type": "display_data",
          "data": {
            "image/png": "[encoded data removed]",
            "text/plain": [
              "<Figure size 432x288 with 1 Axes>"
            ]
          },
          "metadata": {
            "tags": [],
            "needs_background": "light"
          }
        }
      ]
    },
    {
      "cell_type": "code",
      "metadata": {
        "colab": {
          "base_uri": "https://localhost:8080/",
          "height": 279
        },
        "id": "20I1TB2n6dsj",
        "outputId": "9d8b8047-c1c9-473e-c339-8b13dfeab7d5"
      },
      "source": [
        "hypothyroid_data['sick'].value_counts().plot(kind='bar')"
      ],
      "execution_count": 38,
      "outputs": [
        {
          "output_type": "execute_result",
          "data": {
            "text/plain": [
              "<matplotlib.axes._subplots.AxesSubplot at 0x7f442abfd690>"
            ]
          },
          "metadata": {
            "tags": []
          },
          "execution_count": 38
        },
        {
          "output_type": "display_data",
          "data": {
            "image/png": "[encoded data removed]",
            "text/plain": [
              "<Figure size 432x288 with 1 Axes>"
            ]
          },
          "metadata": {
            "tags": [],
            "needs_background": "light"
          }
        }
      ]
    },
    {
      "cell_type": "code",
      "metadata": {
        "colab": {
          "base_uri": "https://localhost:8080/",
          "height": 279
        },
        "id": "HoYe68PG6mYD",
        "outputId": "6dbf45f3-7dd2-4372-96e6-ff8186642fce"
      },
      "source": [
        "hypothyroid_data['tumor'].value_counts().plot(kind='bar')"
      ],
      "execution_count": 39,
      "outputs": [
        {
          "output_type": "execute_result",
          "data": {
            "text/plain": [
              "<matplotlib.axes._subplots.AxesSubplot at 0x7f442ab6e890>"
            ]
          },
          "metadata": {
            "tags": []
          },
          "execution_count": 39
        },
        {
          "output_type": "display_data",
          "data": {
            "image/png": "[encoded data removed]",
            "text/plain": [
              "<Figure size 432x288 with 1 Axes>"
            ]
          },
          "metadata": {
            "tags": [],
            "needs_background": "light"
          }
        }
      ]
    },
    {
      "cell_type": "code",
      "metadata": {
        "colab": {
          "base_uri": "https://localhost:8080/",
          "height": 279
        },
        "id": "d493K9IJ6wM6",
        "outputId": "cd54497f-4ac8-4712-f5d7-494b948ba8d7"
      },
      "source": [
        "hypothyroid_data['lithium'].value_counts().plot(kind='bar')"
      ],
      "execution_count": 40,
      "outputs": [
        {
          "output_type": "execute_result",
          "data": {
            "text/plain": [
              "<matplotlib.axes._subplots.AxesSubplot at 0x7f442aae9390>"
            ]
          },
          "metadata": {
            "tags": []
          },
          "execution_count": 40
        },
        {
          "output_type": "display_data",
          "data": {
            "image/png": "[encoded data removed]",
            "text/plain": [
              "<Figure size 432x288 with 1 Axes>"
            ]
          },
          "metadata": {
            "tags": [],
            "needs_background": "light"
          }
        }
      ]
    },
    {
      "cell_type": "code",
      "metadata": {
        "colab": {
          "base_uri": "https://localhost:8080/",
          "height": 279
        },
        "id": "e9Jpyhft69eh",
        "outputId": "46b7badf-2630-4463-f797-bf92778c3468"
      },
      "source": [
        "hypothyroid_data['goitre'].value_counts().plot(kind='bar')"
      ],
      "execution_count": 41,
      "outputs": [
        {
          "output_type": "execute_result",
          "data": {
            "text/plain": [
              "<matplotlib.axes._subplots.AxesSubplot at 0x7f442aabffd0>"
            ]
          },
          "metadata": {
            "tags": []
          },
          "execution_count": 41
        },
        {
          "output_type": "display_data",
          "data": {
            "image/png": "[encoded data removed]",
            "text/plain": [
              "<Figure size 432x288 with 1 Axes>"
            ]
          },
          "metadata": {
            "tags": [],
            "needs_background": "light"
          }
        }
      ]
    },
    {
      "cell_type": "code",
      "metadata": {
        "colab": {
          "base_uri": "https://localhost:8080/",
          "height": 279
        },
        "id": "NMTYpESY7UbK",
        "outputId": "edd241fe-2009-452a-94ed-033d960d40fd"
      },
      "source": [
        "hypothyroid_data['TSH_measured'].value_counts().plot(kind='bar')"
      ],
      "execution_count": 42,
      "outputs": [
        {
          "output_type": "execute_result",
          "data": {
            "text/plain": [
              "<matplotlib.axes._subplots.AxesSubplot at 0x7f442ad48c10>"
            ]
          },
          "metadata": {
            "tags": []
          },
          "execution_count": 42
        },
        {
          "output_type": "display_data",
          "data": {
            "image/png": "[encoded data removed]",
            "text/plain": [
              "<Figure size 432x288 with 1 Axes>"
            ]
          },
          "metadata": {
            "tags": [],
            "needs_background": "light"
          }
        }
      ]
    },
    {
      "cell_type": "code",
      "metadata": {
        "colab": {
          "base_uri": "https://localhost:8080/",
          "height": 280
        },
        "id": "A1lvYaj77hyn",
        "outputId": "13675cd2-7a59-4618-e397-e2353b15fca1"
      },
      "source": [
        "hypothyroid_data['T3_measured'].value_counts().plot(kind='bar')"
      ],
      "execution_count": 43,
      "outputs": [
        {
          "output_type": "execute_result",
          "data": {
            "text/plain": [
              "<matplotlib.axes._subplots.AxesSubplot at 0x7f442af0b8d0>"
            ]
          },
          "metadata": {
            "tags": []
          },
          "execution_count": 43
        },
        {
          "output_type": "display_data",
          "data": {
            "image/png": "[encoded data removed]",
            "text/plain": [
              "<Figure size 432x288 with 1 Axes>"
            ]
          },
          "metadata": {
            "tags": [],
            "needs_background": "light"
          }
        }
      ]
    },
    {
      "cell_type": "code",
      "metadata": {
        "colab": {
          "base_uri": "https://localhost:8080/",
          "height": 279
        },
        "id": "5mXFe61p7xjB",
        "outputId": "d98ba9a7-b532-42bf-cfd1-7929545122d0"
      },
      "source": [
        "hypothyroid_data['TT4_measured'].value_counts().plot(kind='bar')"
      ],
      "execution_count": 44,
      "outputs": [
        {
          "output_type": "execute_result",
          "data": {
            "text/plain": [
              "<matplotlib.axes._subplots.AxesSubplot at 0x7f442a9609d0>"
            ]
          },
          "metadata": {
            "tags": []
          },
          "execution_count": 44
        },
        {
          "output_type": "display_data",
          "data": {
            "image/png": "[encoded data removed]",
            "text/plain": [
              "<Figure size 432x288 with 1 Axes>"
            ]
          },
          "metadata": {
            "tags": [],
            "needs_background": "light"
          }
        }
      ]
    },
    {
      "cell_type": "code",
      "metadata": {
        "colab": {
          "base_uri": "https://localhost:8080/",
          "height": 279
        },
        "id": "_q5UZZQp8Qkp",
        "outputId": "cee8a1e4-3035-48ae-d7a4-79f42803b8b3"
      },
      "source": [
        "hypothyroid_data['T4U_measured'].value_counts().plot(kind='bar')"
      ],
      "execution_count": 45,
      "outputs": [
        {
          "output_type": "execute_result",
          "data": {
            "text/plain": [
              "<matplotlib.axes._subplots.AxesSubplot at 0x7f442a8c2850>"
            ]
          },
          "metadata": {
            "tags": []
          },
          "execution_count": 45
        },
        {
          "output_type": "display_data",
          "data": {
            "image/png": "[encoded data removed]",
            "text/plain": [
              "<Figure size 432x288 with 1 Axes>"
            ]
          },
          "metadata": {
            "tags": [],
            "needs_background": "light"
          }
        }
      ]
    },
    {
      "cell_type": "code",
      "metadata": {
        "colab": {
          "base_uri": "https://localhost:8080/",
          "height": 279
        },
        "id": "jnyADryc8kkU",
        "outputId": "a4d750e8-262e-4f8d-ee1d-56dc4746d07a"
      },
      "source": [
        "hypothyroid_data['FTI_measured'].value_counts().plot(kind='bar')"
      ],
      "execution_count": 46,
      "outputs": [
        {
          "output_type": "execute_result",
          "data": {
            "text/plain": [
              "<matplotlib.axes._subplots.AxesSubplot at 0x7f442a8bd050>"
            ]
          },
          "metadata": {
            "tags": []
          },
          "execution_count": 46
        },
        {
          "output_type": "display_data",
          "data": {
            "image/png": "[encoded data removed]",
            "text/plain": [
              "<Figure size 432x288 with 1 Axes>"
            ]
          },
          "metadata": {
            "tags": [],
            "needs_background": "light"
          }
        }
      ]
    },
    {
      "cell_type": "code",
      "metadata": {
        "colab": {
          "base_uri": "https://localhost:8080/",
          "height": 1000
        },
        "id": "CWIhpG9gT8M9",
        "outputId": "6b26f10c-6d1e-4455-fb1d-2c0f26853111"
      },
      "source": [
        "# plotting histograms\n",
        "import matplotlib.pyplot as plt\n",
        "%matplotlib inline\n",
        "\n",
        "plt.figure(figsize=(15,10))\n",
        "plt.title('age')\n",
        "print(hypothyroid_data['age'].hist())\n",
        "plt.figure(figsize=(15,10))\n",
        "plt.title('TSH')\n",
        "print(hypothyroid_data['TSH'].hist())\n",
        "plt.figure(figsize=(15,10))\n",
        "plt.title('T3')\n",
        "print(hypothyroid_data['T3'].hist())\n",
        "plt.figure(figsize=(15,10))\n",
        "plt.title('TT4')\n",
        "print(hypothyroid_data['TT4'].hist())\n",
        "plt.figure(figsize=(15,10))\n",
        "plt.title('T4u')\n",
        "print(hypothyroid_data['T4U'].hist())\n",
        "plt.figure(figsize=(15,10))\n",
        "plt.title('FTI')\n",
        "print(hypothyroid_data['FTI'].hist())"
      ],
      "execution_count": 47,
      "outputs": [
        {
          "output_type": "stream",
          "text": [
            "AxesSubplot(0.125,0.125;0.775x0.755)\n",
            "AxesSubplot(0.125,0.125;0.775x0.755)\n",
            "AxesSubplot(0.125,0.125;0.775x0.755)\n",
            "AxesSubplot(0.125,0.125;0.775x0.755)\n",
            "AxesSubplot(0.125,0.125;0.775x0.755)\n",
            "AxesSubplot(0.125,0.125;0.775x0.755)\n"
          ],
          "name": "stdout"
        },
        {
          "output_type": "display_data",
          "data": {
            "image/png": "[encoded data removed]",
            "text/plain": [
              "<Figure size 1080x720 with 1 Axes>"
            ]
          },
          "metadata": {
            "tags": [],
            "needs_background": "light"
          }
        },
        {
          "output_type": "display_data",
          "data": {
            "image/png": "[encoded data removed]",
            "text/plain": [
              "<Figure size 1080x720 with 1 Axes>"
            ]
          },
          "metadata": {
            "tags": [],
            "needs_background": "light"
          }
        },
        {
          "output_type": "display_data",
          "data": {
            "image/png": "[encoded data removed]",
            "text/plain": [
              "<Figure size 1080x720 with 1 Axes>"
            ]
          },
          "metadata": {
            "tags": [],
            "needs_background": "light"
          }
        },
        {
          "output_type": "display_data",
          "data": {
            "image/png": "[encoded data removed]",
            "text/plain": [
              "<Figure size 1080x720 with 1 Axes>"
            ]
          },
          "metadata": {
            "tags": [],
            "needs_background": "light"
          }
        },
        {
          "output_type": "display_data",
          "data": {
            "image/png": "[encoded data removed]",
            "text/plain": [
              "<Figure size 1080x720 with 1 Axes>"
            ]
          },
          "metadata": {
            "tags": [],
            "needs_background": "light"
          }
        },
        {
          "output_type": "display_data",
          "data": {
            "image/png": "[encoded data removed]",
            "text/plain": [
              "<Figure size 1080x720 with 1 Axes>"
            ]
          },
          "metadata": {
            "tags": [],
            "needs_background": "light"
          }
        }
      ]
    },
    {
      "cell_type": "code",
      "metadata": {
        "colab": {
          "base_uri": "https://localhost:8080/",
          "height": 813
        },
        "id": "u8GX0py4NW3L",
        "outputId": "66fc8ca2-7197-40ed-c523-226932040e59"
      },
      "source": [
        "#checking correlation\n",
        "correlations=hypothyroid_data.corr()\n",
        "correlations"
      ],
      "execution_count": 48,
      "outputs": [
        {
          "output_type": "execute_result",
          "data": {
            "text/html": [
              "<div>\n",
              "<style scoped>\n",
              "    .dataframe tbody tr th:only-of-type {\n",
              "        vertical-align: middle;\n",
              "    }\n",
              "\n",
              "    .dataframe tbody tr th {\n",
              "        vertical-align: top;\n",
              "    }\n",
              "\n",
              "    .dataframe thead th {\n",
              "        text-align: right;\n",
              "    }\n",
              "</style>\n",
              "<table border=\"1\" class=\"dataframe\">\n",
              "  <thead>\n",
              "    <tr style=\"text-align: right;\">\n",
              "      <th></th>\n",
              "      <th>status</th>\n",
              "      <th>age</th>\n",
              "      <th>sex</th>\n",
              "      <th>on_thyroxine</th>\n",
              "      <th>query_on_thyroxine</th>\n",
              "      <th>on_antithyroid_medication</th>\n",
              "      <th>thyroid_surgery</th>\n",
              "      <th>query_hypothyroid</th>\n",
              "      <th>query_hyperthyroid</th>\n",
              "      <th>pregnant</th>\n",
              "      <th>sick</th>\n",
              "      <th>tumor</th>\n",
              "      <th>lithium</th>\n",
              "      <th>goitre</th>\n",
              "      <th>TSH_measured</th>\n",
              "      <th>TSH</th>\n",
              "      <th>T3_measured</th>\n",
              "      <th>T3</th>\n",
              "      <th>TT4_measured</th>\n",
              "      <th>TT4</th>\n",
              "      <th>T4U_measured</th>\n",
              "      <th>T4U</th>\n",
              "      <th>FTI_measured</th>\n",
              "      <th>FTI</th>\n",
              "    </tr>\n",
              "  </thead>\n",
              "  <tbody>\n",
              "    <tr>\n",
              "      <th>status</th>\n",
              "      <td>1.000000</td>\n",
              "      <td>-0.027474</td>\n",
              "      <td>-0.016153</td>\n",
              "      <td>0.039450</td>\n",
              "      <td>0.030276</td>\n",
              "      <td>0.012994</td>\n",
              "      <td>-0.044718</td>\n",
              "      <td>-0.046773</td>\n",
              "      <td>0.021699</td>\n",
              "      <td>0.020758</td>\n",
              "      <td>0.022689</td>\n",
              "      <td>0.025754</td>\n",
              "      <td>0.005722</td>\n",
              "      <td>0.004088</td>\n",
              "      <td>-0.079094</td>\n",
              "      <td>-0.590906</td>\n",
              "      <td>-0.059718</td>\n",
              "      <td>0.181543</td>\n",
              "      <td>-0.052755</td>\n",
              "      <td>0.374793</td>\n",
              "      <td>-0.052582</td>\n",
              "      <td>-0.086106</td>\n",
              "      <td>-0.052408</td>\n",
              "      <td>0.309848</td>\n",
              "    </tr>\n",
              "    <tr>\n",
              "      <th>age</th>\n",
              "      <td>-0.027474</td>\n",
              "      <td>1.000000</td>\n",
              "      <td>-0.002559</td>\n",
              "      <td>-0.005034</td>\n",
              "      <td>-0.021795</td>\n",
              "      <td>-0.061838</td>\n",
              "      <td>-0.015037</td>\n",
              "      <td>0.039948</td>\n",
              "      <td>-0.088436</td>\n",
              "      <td>-0.161615</td>\n",
              "      <td>0.061513</td>\n",
              "      <td>-0.066068</td>\n",
              "      <td>-0.022171</td>\n",
              "      <td>-0.039419</td>\n",
              "      <td>0.188714</td>\n",
              "      <td>0.006727</td>\n",
              "      <td>0.162288</td>\n",
              "      <td>-0.258683</td>\n",
              "      <td>0.100271</td>\n",
              "      <td>-0.084932</td>\n",
              "      <td>0.097385</td>\n",
              "      <td>-0.189463</td>\n",
              "      <td>0.098060</td>\n",
              "      <td>0.021243</td>\n",
              "    </tr>\n",
              "    <tr>\n",
              "      <th>sex</th>\n",
              "      <td>-0.016153</td>\n",
              "      <td>-0.002559</td>\n",
              "      <td>1.000000</td>\n",
              "      <td>0.124784</td>\n",
              "      <td>-0.052969</td>\n",
              "      <td>0.021219</td>\n",
              "      <td>0.045884</td>\n",
              "      <td>0.066456</td>\n",
              "      <td>0.058236</td>\n",
              "      <td>0.093226</td>\n",
              "      <td>-0.021954</td>\n",
              "      <td>0.005253</td>\n",
              "      <td>0.016714</td>\n",
              "      <td>0.092020</td>\n",
              "      <td>-0.002560</td>\n",
              "      <td>0.034802</td>\n",
              "      <td>-0.077782</td>\n",
              "      <td>0.069238</td>\n",
              "      <td>-0.053735</td>\n",
              "      <td>0.168997</td>\n",
              "      <td>-0.052934</td>\n",
              "      <td>0.198555</td>\n",
              "      <td>-0.055384</td>\n",
              "      <td>0.073693</td>\n",
              "    </tr>\n",
              "    <tr>\n",
              "      <th>on_thyroxine</th>\n",
              "      <td>0.039450</td>\n",
              "      <td>-0.005034</td>\n",
              "      <td>0.124784</td>\n",
              "      <td>1.000000</td>\n",
              "      <td>-0.015066</td>\n",
              "      <td>-0.025749</td>\n",
              "      <td>0.029442</td>\n",
              "      <td>0.063253</td>\n",
              "      <td>-0.087372</td>\n",
              "      <td>-0.000316</td>\n",
              "      <td>-0.065599</td>\n",
              "      <td>-0.023953</td>\n",
              "      <td>-0.010766</td>\n",
              "      <td>-0.027231</td>\n",
              "      <td>0.047435</td>\n",
              "      <td>-0.001696</td>\n",
              "      <td>-0.191533</td>\n",
              "      <td>0.011621</td>\n",
              "      <td>0.024439</td>\n",
              "      <td>0.218291</td>\n",
              "      <td>0.023892</td>\n",
              "      <td>0.071785</td>\n",
              "      <td>0.027524</td>\n",
              "      <td>0.114436</td>\n",
              "    </tr>\n",
              "    <tr>\n",
              "      <th>query_on_thyroxine</th>\n",
              "      <td>0.030276</td>\n",
              "      <td>-0.021795</td>\n",
              "      <td>-0.052969</td>\n",
              "      <td>-0.015066</td>\n",
              "      <td>1.000000</td>\n",
              "      <td>-0.016246</td>\n",
              "      <td>0.015229</td>\n",
              "      <td>-0.021251</td>\n",
              "      <td>-0.039004</td>\n",
              "      <td>-0.019641</td>\n",
              "      <td>-0.024921</td>\n",
              "      <td>0.049138</td>\n",
              "      <td>-0.003521</td>\n",
              "      <td>0.003723</td>\n",
              "      <td>-0.128473</td>\n",
              "      <td>-0.024275</td>\n",
              "      <td>-0.099341</td>\n",
              "      <td>-0.021159</td>\n",
              "      <td>0.032465</td>\n",
              "      <td>-0.019500</td>\n",
              "      <td>0.032359</td>\n",
              "      <td>-0.034163</td>\n",
              "      <td>0.032252</td>\n",
              "      <td>-0.003611</td>\n",
              "    </tr>\n",
              "    <tr>\n",
              "      <th>on_antithyroid_medication</th>\n",
              "      <td>0.012994</td>\n",
              "      <td>-0.061838</td>\n",
              "      <td>0.021219</td>\n",
              "      <td>-0.025749</td>\n",
              "      <td>-0.016246</td>\n",
              "      <td>1.000000</td>\n",
              "      <td>-0.006834</td>\n",
              "      <td>-0.034654</td>\n",
              "      <td>0.126889</td>\n",
              "      <td>0.002975</td>\n",
              "      <td>-0.021730</td>\n",
              "      <td>-0.013819</td>\n",
              "      <td>-0.003070</td>\n",
              "      <td>-0.021497</td>\n",
              "      <td>-0.040680</td>\n",
              "      <td>-0.004094</td>\n",
              "      <td>-0.025550</td>\n",
              "      <td>0.063960</td>\n",
              "      <td>-0.072398</td>\n",
              "      <td>-0.004512</td>\n",
              "      <td>-0.072788</td>\n",
              "      <td>0.025174</td>\n",
              "      <td>-0.073180</td>\n",
              "      <td>-0.020165</td>\n",
              "    </tr>\n",
              "    <tr>\n",
              "      <th>thyroid_surgery</th>\n",
              "      <td>-0.044718</td>\n",
              "      <td>-0.015037</td>\n",
              "      <td>0.045884</td>\n",
              "      <td>0.029442</td>\n",
              "      <td>0.015229</td>\n",
              "      <td>-0.006834</td>\n",
              "      <td>1.000000</td>\n",
              "      <td>-0.000338</td>\n",
              "      <td>0.022317</td>\n",
              "      <td>-0.014130</td>\n",
              "      <td>-0.034384</td>\n",
              "      <td>-0.021867</td>\n",
              "      <td>-0.004859</td>\n",
              "      <td>-0.023563</td>\n",
              "      <td>0.026972</td>\n",
              "      <td>0.014161</td>\n",
              "      <td>-0.001892</td>\n",
              "      <td>-0.007117</td>\n",
              "      <td>-0.012063</td>\n",
              "      <td>-0.016424</td>\n",
              "      <td>-0.012378</td>\n",
              "      <td>0.025863</td>\n",
              "      <td>-0.012695</td>\n",
              "      <td>-0.026515</td>\n",
              "    </tr>\n",
              "    <tr>\n",
              "      <th>query_hypothyroid</th>\n",
              "      <td>-0.046773</td>\n",
              "      <td>0.039948</td>\n",
              "      <td>0.066456</td>\n",
              "      <td>0.063253</td>\n",
              "      <td>-0.021251</td>\n",
              "      <td>-0.034654</td>\n",
              "      <td>-0.000338</td>\n",
              "      <td>1.000000</td>\n",
              "      <td>-0.017542</td>\n",
              "      <td>-0.015531</td>\n",
              "      <td>-0.053159</td>\n",
              "      <td>-0.033807</td>\n",
              "      <td>0.040546</td>\n",
              "      <td>-0.024256</td>\n",
              "      <td>0.035154</td>\n",
              "      <td>0.069431</td>\n",
              "      <td>-0.040374</td>\n",
              "      <td>-0.041413</td>\n",
              "      <td>0.014213</td>\n",
              "      <td>-0.010617</td>\n",
              "      <td>0.013823</td>\n",
              "      <td>0.044682</td>\n",
              "      <td>0.013432</td>\n",
              "      <td>-0.045861</td>\n",
              "    </tr>\n",
              "    <tr>\n",
              "      <th>query_hyperthyroid</th>\n",
              "      <td>0.021699</td>\n",
              "      <td>-0.088436</td>\n",
              "      <td>0.058236</td>\n",
              "      <td>-0.087372</td>\n",
              "      <td>-0.039004</td>\n",
              "      <td>0.126889</td>\n",
              "      <td>0.022317</td>\n",
              "      <td>-0.017542</td>\n",
              "      <td>1.000000</td>\n",
              "      <td>0.074962</td>\n",
              "      <td>-0.052171</td>\n",
              "      <td>-0.033179</td>\n",
              "      <td>-0.007372</td>\n",
              "      <td>0.041946</td>\n",
              "      <td>-0.143157</td>\n",
              "      <td>-0.033974</td>\n",
              "      <td>-0.033462</td>\n",
              "      <td>0.169864</td>\n",
              "      <td>-0.105387</td>\n",
              "      <td>0.130723</td>\n",
              "      <td>-0.106121</td>\n",
              "      <td>0.069307</td>\n",
              "      <td>-0.106860</td>\n",
              "      <td>0.060868</td>\n",
              "    </tr>\n",
              "    <tr>\n",
              "      <th>pregnant</th>\n",
              "      <td>0.020758</td>\n",
              "      <td>-0.161615</td>\n",
              "      <td>0.093226</td>\n",
              "      <td>-0.000316</td>\n",
              "      <td>-0.019641</td>\n",
              "      <td>0.002975</td>\n",
              "      <td>-0.014130</td>\n",
              "      <td>-0.015531</td>\n",
              "      <td>0.074962</td>\n",
              "      <td>1.000000</td>\n",
              "      <td>-0.026272</td>\n",
              "      <td>0.003883</td>\n",
              "      <td>-0.003712</td>\n",
              "      <td>0.081900</td>\n",
              "      <td>-0.002656</td>\n",
              "      <td>-0.012583</td>\n",
              "      <td>0.024727</td>\n",
              "      <td>0.203145</td>\n",
              "      <td>-0.018170</td>\n",
              "      <td>0.170787</td>\n",
              "      <td>-0.018437</td>\n",
              "      <td>0.323032</td>\n",
              "      <td>-0.018705</td>\n",
              "      <td>-0.006021</td>\n",
              "    </tr>\n",
              "    <tr>\n",
              "      <th>sick</th>\n",
              "      <td>0.022689</td>\n",
              "      <td>0.061513</td>\n",
              "      <td>-0.021954</td>\n",
              "      <td>-0.065599</td>\n",
              "      <td>-0.024921</td>\n",
              "      <td>-0.021730</td>\n",
              "      <td>-0.034384</td>\n",
              "      <td>-0.053159</td>\n",
              "      <td>-0.052171</td>\n",
              "      <td>-0.026272</td>\n",
              "      <td>1.000000</td>\n",
              "      <td>-0.021199</td>\n",
              "      <td>-0.004710</td>\n",
              "      <td>-0.032977</td>\n",
              "      <td>0.040567</td>\n",
              "      <td>-0.003160</td>\n",
              "      <td>0.072422</td>\n",
              "      <td>-0.098709</td>\n",
              "      <td>0.018341</td>\n",
              "      <td>-0.041712</td>\n",
              "      <td>0.018124</td>\n",
              "      <td>-0.047398</td>\n",
              "      <td>0.017907</td>\n",
              "      <td>-0.022915</td>\n",
              "    </tr>\n",
              "    <tr>\n",
              "      <th>tumor</th>\n",
              "      <td>0.025754</td>\n",
              "      <td>-0.066068</td>\n",
              "      <td>0.005253</td>\n",
              "      <td>-0.023953</td>\n",
              "      <td>0.049138</td>\n",
              "      <td>-0.013819</td>\n",
              "      <td>-0.021867</td>\n",
              "      <td>-0.033807</td>\n",
              "      <td>-0.033179</td>\n",
              "      <td>0.003883</td>\n",
              "      <td>-0.021199</td>\n",
              "      <td>1.000000</td>\n",
              "      <td>-0.002995</td>\n",
              "      <td>-0.020972</td>\n",
              "      <td>-0.043865</td>\n",
              "      <td>-0.022483</td>\n",
              "      <td>-0.014556</td>\n",
              "      <td>0.025541</td>\n",
              "      <td>0.001827</td>\n",
              "      <td>-0.014660</td>\n",
              "      <td>0.001660</td>\n",
              "      <td>0.024773</td>\n",
              "      <td>0.014464</td>\n",
              "      <td>-0.026502</td>\n",
              "    </tr>\n",
              "    <tr>\n",
              "      <th>lithium</th>\n",
              "      <td>0.005722</td>\n",
              "      <td>-0.022171</td>\n",
              "      <td>0.016714</td>\n",
              "      <td>-0.010766</td>\n",
              "      <td>-0.003521</td>\n",
              "      <td>-0.003070</td>\n",
              "      <td>-0.004859</td>\n",
              "      <td>0.040546</td>\n",
              "      <td>-0.007372</td>\n",
              "      <td>-0.003712</td>\n",
              "      <td>-0.004710</td>\n",
              "      <td>-0.002995</td>\n",
              "      <td>1.000000</td>\n",
              "      <td>-0.004660</td>\n",
              "      <td>0.009753</td>\n",
              "      <td>-0.000710</td>\n",
              "      <td>0.012894</td>\n",
              "      <td>0.015964</td>\n",
              "      <td>0.006136</td>\n",
              "      <td>-0.002054</td>\n",
              "      <td>0.006116</td>\n",
              "      <td>0.039146</td>\n",
              "      <td>0.006096</td>\n",
              "      <td>-0.016980</td>\n",
              "    </tr>\n",
              "    <tr>\n",
              "      <th>goitre</th>\n",
              "      <td>0.004088</td>\n",
              "      <td>-0.039419</td>\n",
              "      <td>0.092020</td>\n",
              "      <td>-0.027231</td>\n",
              "      <td>0.003723</td>\n",
              "      <td>-0.021497</td>\n",
              "      <td>-0.023563</td>\n",
              "      <td>-0.024256</td>\n",
              "      <td>0.041946</td>\n",
              "      <td>0.081900</td>\n",
              "      <td>-0.032977</td>\n",
              "      <td>-0.020972</td>\n",
              "      <td>-0.004660</td>\n",
              "      <td>1.000000</td>\n",
              "      <td>-0.092665</td>\n",
              "      <td>-0.025559</td>\n",
              "      <td>-0.076130</td>\n",
              "      <td>0.078511</td>\n",
              "      <td>-0.125958</td>\n",
              "      <td>0.041081</td>\n",
              "      <td>-0.126597</td>\n",
              "      <td>0.067332</td>\n",
              "      <td>-0.127240</td>\n",
              "      <td>-0.002981</td>\n",
              "    </tr>\n",
              "    <tr>\n",
              "      <th>TSH_measured</th>\n",
              "      <td>-0.079094</td>\n",
              "      <td>0.188714</td>\n",
              "      <td>-0.002560</td>\n",
              "      <td>0.047435</td>\n",
              "      <td>-0.128473</td>\n",
              "      <td>-0.040680</td>\n",
              "      <td>0.026972</td>\n",
              "      <td>0.035154</td>\n",
              "      <td>-0.143157</td>\n",
              "      <td>-0.002656</td>\n",
              "      <td>0.040567</td>\n",
              "      <td>-0.043865</td>\n",
              "      <td>0.009753</td>\n",
              "      <td>-0.092665</td>\n",
              "      <td>1.000000</td>\n",
              "      <td>0.075010</td>\n",
              "      <td>0.590452</td>\n",
              "      <td>-0.006171</td>\n",
              "      <td>0.624695</td>\n",
              "      <td>-0.005953</td>\n",
              "      <td>0.622615</td>\n",
              "      <td>0.021695</td>\n",
              "      <td>0.620529</td>\n",
              "      <td>-0.019074</td>\n",
              "    </tr>\n",
              "    <tr>\n",
              "      <th>TSH</th>\n",
              "      <td>-0.590906</td>\n",
              "      <td>0.006727</td>\n",
              "      <td>0.034802</td>\n",
              "      <td>-0.001696</td>\n",
              "      <td>-0.024275</td>\n",
              "      <td>-0.004094</td>\n",
              "      <td>0.014161</td>\n",
              "      <td>0.069431</td>\n",
              "      <td>-0.033974</td>\n",
              "      <td>-0.012583</td>\n",
              "      <td>-0.003160</td>\n",
              "      <td>-0.022483</td>\n",
              "      <td>-0.000710</td>\n",
              "      <td>-0.025559</td>\n",
              "      <td>0.075010</td>\n",
              "      <td>1.000000</td>\n",
              "      <td>0.049100</td>\n",
              "      <td>-0.169101</td>\n",
              "      <td>0.047239</td>\n",
              "      <td>-0.308532</td>\n",
              "      <td>0.047084</td>\n",
              "      <td>0.073927</td>\n",
              "      <td>0.046929</td>\n",
              "      <td>-0.240721</td>\n",
              "    </tr>\n",
              "    <tr>\n",
              "      <th>T3_measured</th>\n",
              "      <td>-0.059718</td>\n",
              "      <td>0.162288</td>\n",
              "      <td>-0.077782</td>\n",
              "      <td>-0.191533</td>\n",
              "      <td>-0.099341</td>\n",
              "      <td>-0.025550</td>\n",
              "      <td>-0.001892</td>\n",
              "      <td>-0.040374</td>\n",
              "      <td>-0.033462</td>\n",
              "      <td>0.024727</td>\n",
              "      <td>0.072422</td>\n",
              "      <td>-0.014556</td>\n",
              "      <td>0.012894</td>\n",
              "      <td>-0.076130</td>\n",
              "      <td>0.590452</td>\n",
              "      <td>0.049100</td>\n",
              "      <td>1.000000</td>\n",
              "      <td>0.060908</td>\n",
              "      <td>0.472195</td>\n",
              "      <td>-0.059364</td>\n",
              "      <td>0.470621</td>\n",
              "      <td>-0.013773</td>\n",
              "      <td>0.469042</td>\n",
              "      <td>-0.035850</td>\n",
              "    </tr>\n",
              "    <tr>\n",
              "      <th>T3</th>\n",
              "      <td>0.181543</td>\n",
              "      <td>-0.258683</td>\n",
              "      <td>0.069238</td>\n",
              "      <td>0.011621</td>\n",
              "      <td>-0.021159</td>\n",
              "      <td>0.063960</td>\n",
              "      <td>-0.007117</td>\n",
              "      <td>-0.041413</td>\n",
              "      <td>0.169864</td>\n",
              "      <td>0.203145</td>\n",
              "      <td>-0.098709</td>\n",
              "      <td>0.025541</td>\n",
              "      <td>0.015964</td>\n",
              "      <td>0.078511</td>\n",
              "      <td>-0.006171</td>\n",
              "      <td>-0.169101</td>\n",
              "      <td>0.060908</td>\n",
              "      <td>1.000000</td>\n",
              "      <td>0.029996</td>\n",
              "      <td>0.529110</td>\n",
              "      <td>0.029903</td>\n",
              "      <td>0.384854</td>\n",
              "      <td>0.029811</td>\n",
              "      <td>0.278703</td>\n",
              "    </tr>\n",
              "    <tr>\n",
              "      <th>TT4_measured</th>\n",
              "      <td>-0.052755</td>\n",
              "      <td>0.100271</td>\n",
              "      <td>-0.053735</td>\n",
              "      <td>0.024439</td>\n",
              "      <td>0.032465</td>\n",
              "      <td>-0.072398</td>\n",
              "      <td>-0.012063</td>\n",
              "      <td>0.014213</td>\n",
              "      <td>-0.105387</td>\n",
              "      <td>-0.018170</td>\n",
              "      <td>0.018341</td>\n",
              "      <td>0.001827</td>\n",
              "      <td>0.006136</td>\n",
              "      <td>-0.125958</td>\n",
              "      <td>0.624695</td>\n",
              "      <td>0.047239</td>\n",
              "      <td>0.472195</td>\n",
              "      <td>0.029996</td>\n",
              "      <td>1.000000</td>\n",
              "      <td>0.024413</td>\n",
              "      <td>0.996714</td>\n",
              "      <td>0.016653</td>\n",
              "      <td>0.993420</td>\n",
              "      <td>0.034096</td>\n",
              "    </tr>\n",
              "    <tr>\n",
              "      <th>TT4</th>\n",
              "      <td>0.374793</td>\n",
              "      <td>-0.084932</td>\n",
              "      <td>0.168997</td>\n",
              "      <td>0.218291</td>\n",
              "      <td>-0.019500</td>\n",
              "      <td>-0.004512</td>\n",
              "      <td>-0.016424</td>\n",
              "      <td>-0.010617</td>\n",
              "      <td>0.130723</td>\n",
              "      <td>0.170787</td>\n",
              "      <td>-0.041712</td>\n",
              "      <td>-0.014660</td>\n",
              "      <td>-0.002054</td>\n",
              "      <td>0.041081</td>\n",
              "      <td>-0.005953</td>\n",
              "      <td>-0.308532</td>\n",
              "      <td>-0.059364</td>\n",
              "      <td>0.529110</td>\n",
              "      <td>0.024413</td>\n",
              "      <td>1.000000</td>\n",
              "      <td>0.024333</td>\n",
              "      <td>0.320675</td>\n",
              "      <td>0.024253</td>\n",
              "      <td>0.677619</td>\n",
              "    </tr>\n",
              "    <tr>\n",
              "      <th>T4U_measured</th>\n",
              "      <td>-0.052582</td>\n",
              "      <td>0.097385</td>\n",
              "      <td>-0.052934</td>\n",
              "      <td>0.023892</td>\n",
              "      <td>0.032359</td>\n",
              "      <td>-0.072788</td>\n",
              "      <td>-0.012378</td>\n",
              "      <td>0.013823</td>\n",
              "      <td>-0.106121</td>\n",
              "      <td>-0.018437</td>\n",
              "      <td>0.018124</td>\n",
              "      <td>0.001660</td>\n",
              "      <td>0.006116</td>\n",
              "      <td>-0.126597</td>\n",
              "      <td>0.622615</td>\n",
              "      <td>0.047084</td>\n",
              "      <td>0.470621</td>\n",
              "      <td>0.029903</td>\n",
              "      <td>0.996714</td>\n",
              "      <td>0.024333</td>\n",
              "      <td>1.000000</td>\n",
              "      <td>0.017938</td>\n",
              "      <td>0.996695</td>\n",
              "      <td>0.033563</td>\n",
              "    </tr>\n",
              "    <tr>\n",
              "      <th>T4U</th>\n",
              "      <td>-0.086106</td>\n",
              "      <td>-0.189463</td>\n",
              "      <td>0.198555</td>\n",
              "      <td>0.071785</td>\n",
              "      <td>-0.034163</td>\n",
              "      <td>0.025174</td>\n",
              "      <td>0.025863</td>\n",
              "      <td>0.044682</td>\n",
              "      <td>0.069307</td>\n",
              "      <td>0.323032</td>\n",
              "      <td>-0.047398</td>\n",
              "      <td>0.024773</td>\n",
              "      <td>0.039146</td>\n",
              "      <td>0.067332</td>\n",
              "      <td>0.021695</td>\n",
              "      <td>0.073927</td>\n",
              "      <td>-0.013773</td>\n",
              "      <td>0.384854</td>\n",
              "      <td>0.016653</td>\n",
              "      <td>0.320675</td>\n",
              "      <td>0.017938</td>\n",
              "      <td>1.000000</td>\n",
              "      <td>0.017879</td>\n",
              "      <td>-0.293632</td>\n",
              "    </tr>\n",
              "    <tr>\n",
              "      <th>FTI_measured</th>\n",
              "      <td>-0.052408</td>\n",
              "      <td>0.098060</td>\n",
              "      <td>-0.055384</td>\n",
              "      <td>0.027524</td>\n",
              "      <td>0.032252</td>\n",
              "      <td>-0.073180</td>\n",
              "      <td>-0.012695</td>\n",
              "      <td>0.013432</td>\n",
              "      <td>-0.106860</td>\n",
              "      <td>-0.018705</td>\n",
              "      <td>0.017907</td>\n",
              "      <td>0.014464</td>\n",
              "      <td>0.006096</td>\n",
              "      <td>-0.127240</td>\n",
              "      <td>0.620529</td>\n",
              "      <td>0.046929</td>\n",
              "      <td>0.469042</td>\n",
              "      <td>0.029811</td>\n",
              "      <td>0.993420</td>\n",
              "      <td>0.024253</td>\n",
              "      <td>0.996695</td>\n",
              "      <td>0.017879</td>\n",
              "      <td>1.000000</td>\n",
              "      <td>0.032443</td>\n",
              "    </tr>\n",
              "    <tr>\n",
              "      <th>FTI</th>\n",
              "      <td>0.309848</td>\n",
              "      <td>0.021243</td>\n",
              "      <td>0.073693</td>\n",
              "      <td>0.114436</td>\n",
              "      <td>-0.003611</td>\n",
              "      <td>-0.020165</td>\n",
              "      <td>-0.026515</td>\n",
              "      <td>-0.045861</td>\n",
              "      <td>0.060868</td>\n",
              "      <td>-0.006021</td>\n",
              "      <td>-0.022915</td>\n",
              "      <td>-0.026502</td>\n",
              "      <td>-0.016980</td>\n",
              "      <td>-0.002981</td>\n",
              "      <td>-0.019074</td>\n",
              "      <td>-0.240721</td>\n",
              "      <td>-0.035850</td>\n",
              "      <td>0.278703</td>\n",
              "      <td>0.034096</td>\n",
              "      <td>0.677619</td>\n",
              "      <td>0.033563</td>\n",
              "      <td>-0.293632</td>\n",
              "      <td>0.032443</td>\n",
              "      <td>1.000000</td>\n",
              "    </tr>\n",
              "  </tbody>\n",
              "</table>\n",
              "</div>"
            ],
            "text/plain": [
              "                             status       age  ...  FTI_measured       FTI\n",
              "status                     1.000000 -0.027474  ...     -0.052408  0.309848\n",
              "age                       -0.027474  1.000000  ...      0.098060  0.021243\n",
              "sex                       -0.016153 -0.002559  ...     -0.055384  0.073693\n",
              "on_thyroxine               0.039450 -0.005034  ...      0.027524  0.114436\n",
              "query_on_thyroxine         0.030276 -0.021795  ...      0.032252 -0.003611\n",
              "on_antithyroid_medication  0.012994 -0.061838  ...     -0.073180 -0.020165\n",
              "thyroid_surgery           -0.044718 -0.015037  ...     -0.012695 -0.026515\n",
              "query_hypothyroid         -0.046773  0.039948  ...      0.013432 -0.045861\n",
              "query_hyperthyroid         0.021699 -0.088436  ...     -0.106860  0.060868\n",
              "pregnant                   0.020758 -0.161615  ...     -0.018705 -0.006021\n",
              "sick                       0.022689  0.061513  ...      0.017907 -0.022915\n",
              "tumor                      0.025754 -0.066068  ...      0.014464 -0.026502\n",
              "lithium                    0.005722 -0.022171  ...      0.006096 -0.016980\n",
              "goitre                     0.004088 -0.039419  ...     -0.127240 -0.002981\n",
              "TSH_measured              -0.079094  0.188714  ...      0.620529 -0.019074\n",
              "TSH                       -0.590906  0.006727  ...      0.046929 -0.240721\n",
              "T3_measured               -0.059718  0.162288  ...      0.469042 -0.035850\n",
              "T3                         0.181543 -0.258683  ...      0.029811  0.278703\n",
              "TT4_measured              -0.052755  0.100271  ...      0.993420  0.034096\n",
              "TT4                        0.374793 -0.084932  ...      0.024253  0.677619\n",
              "T4U_measured              -0.052582  0.097385  ...      0.996695  0.033563\n",
              "T4U                       -0.086106 -0.189463  ...      0.017879 -0.293632\n",
              "FTI_measured              -0.052408  0.098060  ...      1.000000  0.032443\n",
              "FTI                        0.309848  0.021243  ...      0.032443  1.000000\n",
              "\n",
              "[24 rows x 24 columns]"
            ]
          },
          "metadata": {
            "tags": []
          },
          "execution_count": 48
        }
      ]
    },
    {
      "cell_type": "markdown",
      "metadata": {
        "id": "4y2VtozDGa46"
      },
      "source": [
        "there is no significant multicolinearity in the data"
      ]
    },
    {
      "cell_type": "markdown",
      "metadata": {
        "id": "vTbdjSrhVIiT"
      },
      "source": [
        "## 7. Implementing the Solution"
      ]
    },
    {
      "cell_type": "markdown",
      "metadata": {
        "id": "uuA6bJp3JWzK"
      },
      "source": [
        "## Part 1: Decision trees:\n",
        "\n",
        "1. Random Forest"
      ]
    },
    {
      "cell_type": "code",
      "metadata": {
        "id": "kEnXp95hh5Qd"
      },
      "source": [
        "from sklearn.model_selection import train_test_split\n",
        "\n",
        "# Split the independent and dependent variables\n",
        "# We want to predict if someone is a social drinker, so let's use that column as our Y \n",
        "y = hypothyroid_data['status'].values\n",
        "\n",
        "\n",
        "test_features = hypothyroid_data.columns.to_list()\n",
        "test_features.remove('status')\n",
        "\n",
        "X = hypothyroid_data[test_features].values\n",
        "\n",
        "# Train using 80% of the data.\n",
        "X_train, X_test, y_train, y_test = train_test_split(X, y, test_size=0.2, random_state=0)\n",
        "\n",
        "\n",
        "# Import the model\n",
        "from sklearn.ensemble import RandomForestRegressor\n",
        "\n",
        "#defining the model and fitting data\n",
        "forest = RandomForestRegressor(n_estimators = 300, random_state=42, min_samples_split = 20, max_depth=5)\n",
        "forest = forest.fit(X_train, y_train)\n",
        "\n",
        "# Predict based on the model we've trained\n",
        "y_pred = forest.predict(X_test)\n",
        "\n",
        "\n",
        "comparison_frame = pd.DataFrame({'Actual': y_test.flatten(), 'Predicted': y_pred.flatten()})\n",
        "\n",
        "comparison_frame.describe()"
      ],
      "execution_count": null,
      "outputs": []
    },
    {
      "cell_type": "code",
      "metadata": {
        "colab": {
          "base_uri": "https://localhost:8080/"
        },
        "id": "HDoTFmqfXtpt",
        "outputId": "acdd75fb-7bc7-48f5-dcbc-91f1b3ce6d61"
      },
      "source": [
        "from sklearn import metrics\n",
        "\n",
        "# And now we assess the errors\n",
        "print('Mean Absolute Error:', metrics.mean_absolute_error(y_test, y_pred))  \n",
        "print('Mean Squared Error:', metrics.mean_squared_error(y_test, y_pred))  \n",
        "print('Root Mean Squared Error:', np.sqrt(metrics.mean_squared_error(y_test, y_pred)))\n"
      ],
      "execution_count": 50,
      "outputs": [
        {
          "output_type": "stream",
          "text": [
            "Mean Absolute Error: 0.014075818755442083\n",
            "Mean Squared Error: 0.00712531960482387\n",
            "Root Mean Squared Error: 0.08441160823502813\n"
          ],
          "name": "stdout"
        }
      ]
    },
    {
      "cell_type": "code",
      "metadata": {
        "colab": {
          "base_uri": "https://localhost:8080/"
        },
        "id": "sxWhEBr5ZfMm",
        "outputId": "2aa0c8ef-3dc1-4342-e0c4-d3ecf22af50d"
      },
      "source": [
        "from sklearn.model_selection import GridSearchCV\n",
        "\n",
        "n_estimators = [100, 300, 500, 800, 1200]\n",
        "max_depth = [5, 8, 15, 25, 30]\n",
        "min_samples_split = [2, 5, 10, 15, 100]\n",
        "min_samples_leaf = [1, 2, 5, 10] \n",
        "\n",
        "hyperF = dict(n_estimators = n_estimators, max_depth = max_depth,  \n",
        "              min_samples_split = min_samples_split, \n",
        "             min_samples_leaf = min_samples_leaf)\n",
        "forest = RandomForestRegressor()\n",
        "gridF = GridSearchCV(forest, hyperF, cv = 3, verbose = 1, \n",
        "                      n_jobs = -1)\n",
        "bestF = gridF.fit(X_train, y_train)"
      ],
      "execution_count": 51,
      "outputs": [
        {
          "output_type": "stream",
          "text": [
            "Fitting 3 folds for each of 500 candidates, totalling 1500 fits\n"
          ],
          "name": "stdout"
        },
        {
          "output_type": "stream",
          "text": [
            "[Parallel(n_jobs=-1)]: Using backend LokyBackend with 2 concurrent workers.\n",
            "[Parallel(n_jobs=-1)]: Done  46 tasks      | elapsed:   53.9s\n",
            "[Parallel(n_jobs=-1)]: Done 196 tasks      | elapsed:  3.8min\n",
            "[Parallel(n_jobs=-1)]: Done 446 tasks      | elapsed:  8.5min\n",
            "[Parallel(n_jobs=-1)]: Done 796 tasks      | elapsed: 15.2min\n",
            "[Parallel(n_jobs=-1)]: Done 1246 tasks      | elapsed: 23.6min\n",
            "[Parallel(n_jobs=-1)]: Done 1500 out of 1500 | elapsed: 28.3min finished\n"
          ],
          "name": "stderr"
        }
      ]
    },
    {
      "cell_type": "code",
      "metadata": {
        "colab": {
          "base_uri": "https://localhost:8080/"
        },
        "id": "-YmhxRpionHb",
        "outputId": "226b4f7c-5cfe-4e48-e30a-4818cf3c8b74"
      },
      "source": [
        "#viewing best parameters\n",
        "bestF.best_params_"
      ],
      "execution_count": 52,
      "outputs": [
        {
          "output_type": "execute_result",
          "data": {
            "text/plain": [
              "{'max_depth': 5,\n",
              " 'min_samples_leaf': 1,\n",
              " 'min_samples_split': 5,\n",
              " 'n_estimators': 300}"
            ]
          },
          "metadata": {
            "tags": []
          },
          "execution_count": 52
        }
      ]
    },
    {
      "cell_type": "code",
      "metadata": {
        "id": "5lctxkBxayTs",
        "colab": {
          "base_uri": "https://localhost:8080/"
        },
        "outputId": "fcf8bf2a-f7fc-4bdc-b4a0-53f866f9d522"
      },
      "source": [
        "y_pred = bestF.predict(X_test)\n",
        "print('Mean Absolute Error:', metrics.mean_absolute_error(y_test, y_pred))  \n",
        "print('Mean Squared Error:', metrics.mean_squared_error(y_test, y_pred))  \n",
        "print('Root Mean Squared Error:', np.sqrt(metrics.mean_squared_error(y_test, y_pred)))"
      ],
      "execution_count": 53,
      "outputs": [
        {
          "output_type": "stream",
          "text": [
            "Mean Absolute Error: 0.013843265532698466\n",
            "Mean Squared Error: 0.007579620398133836\n",
            "Root Mean Squared Error: 0.08706101537504508\n"
          ],
          "name": "stdout"
        }
      ]
    },
    {
      "cell_type": "markdown",
      "metadata": {
        "id": "_74FIaXMjx8I"
      },
      "source": [
        "after using grid search to cross validate the random forest model, the result was approximately the same as just using random forest on its own proving that the model had performed optimally in the first phase."
      ]
    },
    {
      "cell_type": "markdown",
      "metadata": {
        "id": "cr0c6GEdx5wt"
      },
      "source": [
        "2. Ada Boosted trees"
      ]
    },
    {
      "cell_type": "code",
      "metadata": {
        "colab": {
          "base_uri": "https://localhost:8080/",
          "height": 297
        },
        "id": "5lzlutSyyEZ-",
        "outputId": "5bd35a1e-eeaf-4375-a8ef-53b2281c32e4"
      },
      "source": [
        "from sklearn.ensemble import AdaBoostClassifier\n",
        "# ada boost needs a simple decision tree so we import the model\n",
        "from sklearn.tree import DecisionTreeClassifier\n",
        "ada_boost = AdaBoostClassifier(DecisionTreeClassifier(max_depth=5),\n",
        "                          n_estimators=300, random_state=1)\n",
        "\n",
        "ada_boost = ada_boost.fit(X_train, y_train)\n",
        "y_pred_ada = ada_boost.predict(X_test)\n",
        "comparison_frame1 = pd.DataFrame({'Actual': y_test.flatten(), 'Predicted': y_pred_ada.flatten()})\n",
        "\n",
        "comparison_frame1.describe()"
      ],
      "execution_count": 54,
      "outputs": [
        {
          "output_type": "execute_result",
          "data": {
            "text/html": [
              "<div>\n",
              "<style scoped>\n",
              "    .dataframe tbody tr th:only-of-type {\n",
              "        vertical-align: middle;\n",
              "    }\n",
              "\n",
              "    .dataframe tbody tr th {\n",
              "        vertical-align: top;\n",
              "    }\n",
              "\n",
              "    .dataframe thead th {\n",
              "        text-align: right;\n",
              "    }\n",
              "</style>\n",
              "<table border=\"1\" class=\"dataframe\">\n",
              "  <thead>\n",
              "    <tr style=\"text-align: right;\">\n",
              "      <th></th>\n",
              "      <th>Actual</th>\n",
              "      <th>Predicted</th>\n",
              "    </tr>\n",
              "  </thead>\n",
              "  <tbody>\n",
              "    <tr>\n",
              "      <th>count</th>\n",
              "      <td>602.000000</td>\n",
              "      <td>602.000000</td>\n",
              "    </tr>\n",
              "    <tr>\n",
              "      <th>mean</th>\n",
              "      <td>0.958472</td>\n",
              "      <td>0.956811</td>\n",
              "    </tr>\n",
              "    <tr>\n",
              "      <th>std</th>\n",
              "      <td>0.199674</td>\n",
              "      <td>0.203452</td>\n",
              "    </tr>\n",
              "    <tr>\n",
              "      <th>min</th>\n",
              "      <td>0.000000</td>\n",
              "      <td>0.000000</td>\n",
              "    </tr>\n",
              "    <tr>\n",
              "      <th>25%</th>\n",
              "      <td>1.000000</td>\n",
              "      <td>1.000000</td>\n",
              "    </tr>\n",
              "    <tr>\n",
              "      <th>50%</th>\n",
              "      <td>1.000000</td>\n",
              "      <td>1.000000</td>\n",
              "    </tr>\n",
              "    <tr>\n",
              "      <th>75%</th>\n",
              "      <td>1.000000</td>\n",
              "      <td>1.000000</td>\n",
              "    </tr>\n",
              "    <tr>\n",
              "      <th>max</th>\n",
              "      <td>1.000000</td>\n",
              "      <td>1.000000</td>\n",
              "    </tr>\n",
              "  </tbody>\n",
              "</table>\n",
              "</div>"
            ],
            "text/plain": [
              "           Actual   Predicted\n",
              "count  602.000000  602.000000\n",
              "mean     0.958472    0.956811\n",
              "std      0.199674    0.203452\n",
              "min      0.000000    0.000000\n",
              "25%      1.000000    1.000000\n",
              "50%      1.000000    1.000000\n",
              "75%      1.000000    1.000000\n",
              "max      1.000000    1.000000"
            ]
          },
          "metadata": {
            "tags": []
          },
          "execution_count": 54
        }
      ]
    },
    {
      "cell_type": "code",
      "metadata": {
        "colab": {
          "base_uri": "https://localhost:8080/"
        },
        "id": "dZxk2cX-yuNA",
        "outputId": "27aff712-c99e-42ee-f3e9-6bbbdb0ff391"
      },
      "source": [
        "from sklearn import metrics\n",
        "\n",
        "# And now we assess the errors\n",
        "print('Mean Absolute Error:', metrics.mean_absolute_error(y_test, y_pred_ada))  \n",
        "print('Mean Squared Error:', metrics.mean_squared_error(y_test, y_pred_ada))  \n",
        "print('Root Mean Squared Error:', np.sqrt(metrics.mean_squared_error(y_test, y_pred_ada)))"
      ],
      "execution_count": 55,
      "outputs": [
        {
          "output_type": "stream",
          "text": [
            "Mean Absolute Error: 0.008305647840531562\n",
            "Mean Squared Error: 0.008305647840531562\n",
            "Root Mean Squared Error: 0.09113532707206115\n"
          ],
          "name": "stdout"
        }
      ]
    },
    {
      "cell_type": "code",
      "metadata": {
        "colab": {
          "base_uri": "https://localhost:8080/"
        },
        "id": "lHeag5PAlfw4",
        "outputId": "2f8ce867-2604-42c9-e3e8-1bc62aa98adb"
      },
      "source": [
        "from sklearn.model_selection import RandomizedSearchCV\n",
        "# creating a dictionary with the hyperparameters to be tuned \n",
        "param_dist = {\n",
        " 'n_estimators': [50, 100],\n",
        " 'learning_rate' : [0.01,0.05,0.1,0.3,1]\n",
        " }\n",
        "#defining the randomized search model \n",
        "rsv= RandomizedSearchCV(ada_boost,\n",
        " param_distributions = param_dist,\n",
        " cv=3,\n",
        " n_iter = 10,\n",
        " n_jobs=-1)\n",
        "rsv.fit(X_train, y_train)"
      ],
      "execution_count": 56,
      "outputs": [
        {
          "output_type": "execute_result",
          "data": {
            "text/plain": [
              "RandomizedSearchCV(cv=3, error_score=nan,\n",
              "                   estimator=AdaBoostClassifier(algorithm='SAMME.R',\n",
              "                                                base_estimator=DecisionTreeClassifier(ccp_alpha=0.0,\n",
              "                                                                                      class_weight=None,\n",
              "                                                                                      criterion='gini',\n",
              "                                                                                      max_depth=5,\n",
              "                                                                                      max_features=None,\n",
              "                                                                                      max_leaf_nodes=None,\n",
              "                                                                                      min_impurity_decrease=0.0,\n",
              "                                                                                      min_impurity_split=None,\n",
              "                                                                                      min_samples_leaf=1,\n",
              "                                                                                      min_samples_split=2,\n",
              "                                                                                      min_weight_fraction_leaf=0.0,\n",
              "                                                                                      presort='deprecated',\n",
              "                                                                                      random_state=None,\n",
              "                                                                                      splitter='best'),\n",
              "                                                learning_rate=1.0,\n",
              "                                                n_estimators=300,\n",
              "                                                random_state=1),\n",
              "                   iid='deprecated', n_iter=10, n_jobs=-1,\n",
              "                   param_distributions={'learning_rate': [0.01, 0.05, 0.1, 0.3,\n",
              "                                                          1],\n",
              "                                        'n_estimators': [50, 100]},\n",
              "                   pre_dispatch='2*n_jobs', random_state=None, refit=True,\n",
              "                   return_train_score=False, scoring=None, verbose=0)"
            ]
          },
          "metadata": {
            "tags": []
          },
          "execution_count": 56
        }
      ]
    },
    {
      "cell_type": "code",
      "metadata": {
        "colab": {
          "base_uri": "https://localhost:8080/"
        },
        "id": "gIO1EtNloZ8x",
        "outputId": "56e58981-e361-45a2-bea2-aa29bcc889f0"
      },
      "source": [
        "#viewing best parameters\n",
        "rsv.best_params_"
      ],
      "execution_count": 57,
      "outputs": [
        {
          "output_type": "execute_result",
          "data": {
            "text/plain": [
              "{'learning_rate': 1, 'n_estimators': 100}"
            ]
          },
          "metadata": {
            "tags": []
          },
          "execution_count": 57
        }
      ]
    },
    {
      "cell_type": "code",
      "metadata": {
        "colab": {
          "base_uri": "https://localhost:8080/"
        },
        "id": "yudlAhGJl5S4",
        "outputId": "13d0d156-567c-480f-b4e9-47768a3de2e9"
      },
      "source": [
        "y_pred_ada=rsv.predict(X_test)\n",
        "print('Mean Absolute Error:', metrics.mean_absolute_error(y_test, y_pred_ada))  \n",
        "print('Mean Squared Error:', metrics.mean_squared_error(y_test, y_pred_ada))  \n",
        "print('Root Mean Squared Error:', np.sqrt(metrics.mean_squared_error(y_test, y_pred_ada)))"
      ],
      "execution_count": 58,
      "outputs": [
        {
          "output_type": "stream",
          "text": [
            "Mean Absolute Error: 0.008305647840531562\n",
            "Mean Squared Error: 0.008305647840531562\n",
            "Root Mean Squared Error: 0.09113532707206115\n"
          ],
          "name": "stdout"
        }
      ]
    },
    {
      "cell_type": "markdown",
      "metadata": {
        "id": "gyDWCfHxnSY5"
      },
      "source": [
        "the cross-validated model seemed to have improved significantly though not to the extent of outperforming the random forest one."
      ]
    },
    {
      "cell_type": "markdown",
      "metadata": {
        "id": "kbJE159qoHxg"
      },
      "source": [
        "3. Gradient boosted model"
      ]
    },
    {
      "cell_type": "code",
      "metadata": {
        "id": "E5FwGLov0SWO"
      },
      "source": [
        "from sklearn.ensemble import GradientBoostingClassifier\n",
        "target_number_of_trees = 300\n",
        "\n",
        "gbr = GradientBoostingClassifier(n_estimators=target_number_of_trees, learning_rate=0.1, max_depth=5)\n",
        "gbr = gbr.fit(X_train, y_train)\n",
        "\n",
        "y_pred_gbr = gbr.predict(X_test)"
      ],
      "execution_count": 59,
      "outputs": []
    },
    {
      "cell_type": "code",
      "metadata": {
        "colab": {
          "base_uri": "https://localhost:8080/"
        },
        "id": "E99ZLkW10pNr",
        "outputId": "f2cc942d-71bf-47ac-f8b7-31fbc598cd57"
      },
      "source": [
        "from sklearn import metrics\n",
        "\n",
        "# And now we assess the errors\n",
        "print('Mean Absolute Error:', metrics.mean_absolute_error(y_test, y_pred_gbr))  \n",
        "print('Mean Squared Error:', metrics.mean_squared_error(y_test, y_pred_gbr))  \n",
        "print('Root Mean Squared Error:', np.sqrt(metrics.mean_squared_error(y_test, y_pred_gbr)))"
      ],
      "execution_count": 60,
      "outputs": [
        {
          "output_type": "stream",
          "text": [
            "Mean Absolute Error: 0.009966777408637873\n",
            "Mean Squared Error: 0.009966777408637873\n",
            "Root Mean Squared Error: 0.09983374884595826\n"
          ],
          "name": "stdout"
        }
      ]
    },
    {
      "cell_type": "code",
      "metadata": {
        "colab": {
          "base_uri": "https://localhost:8080/"
        },
        "id": "_VNualwwq8i8",
        "outputId": "4d7fefb4-477d-41cd-ed76-00f7eed611f9"
      },
      "source": [
        "#cross validating the model\n",
        "gbc = GradientBoostingClassifier()\n",
        "parameters = {\n",
        "    \"n_estimators\":[5,50,250,500],\n",
        "    \"max_depth\":[1,3,5,7,9],\n",
        "    \"learning_rate\":[0.01,0.1,1,10,100]\n",
        "}\n",
        "cv = GridSearchCV(gbc,parameters,cv=5)\n",
        "cv.fit(X_train,y_train)"
      ],
      "execution_count": 61,
      "outputs": [
        {
          "output_type": "execute_result",
          "data": {
            "text/plain": [
              "GridSearchCV(cv=5, error_score=nan,\n",
              "             estimator=GradientBoostingClassifier(ccp_alpha=0.0,\n",
              "                                                  criterion='friedman_mse',\n",
              "                                                  init=None, learning_rate=0.1,\n",
              "                                                  loss='deviance', max_depth=3,\n",
              "                                                  max_features=None,\n",
              "                                                  max_leaf_nodes=None,\n",
              "                                                  min_impurity_decrease=0.0,\n",
              "                                                  min_impurity_split=None,\n",
              "                                                  min_samples_leaf=1,\n",
              "                                                  min_samples_split=2,\n",
              "                                                  min_weight_fraction_leaf=0.0,\n",
              "                                                  n_estimators=100,\n",
              "                                                  n_iter_no_change=None,\n",
              "                                                  presort='deprecated',\n",
              "                                                  random_state=None,\n",
              "                                                  subsample=1.0, tol=0.0001,\n",
              "                                                  validation_fraction=0.1,\n",
              "                                                  verbose=0, warm_start=False),\n",
              "             iid='deprecated', n_jobs=None,\n",
              "             param_grid={'learning_rate': [0.01, 0.1, 1, 10, 100],\n",
              "                         'max_depth': [1, 3, 5, 7, 9],\n",
              "                         'n_estimators': [5, 50, 250, 500]},\n",
              "             pre_dispatch='2*n_jobs', refit=True, return_train_score=False,\n",
              "             scoring=None, verbose=0)"
            ]
          },
          "metadata": {
            "tags": []
          },
          "execution_count": 61
        }
      ]
    },
    {
      "cell_type": "code",
      "metadata": {
        "colab": {
          "base_uri": "https://localhost:8080/"
        },
        "id": "MA6w7bjitGES",
        "outputId": "d0072733-5284-44ae-e30b-e07e7e0fcd63"
      },
      "source": [
        "y_pred_gbr=cv.predict(X_test)\n",
        "# And now we assess the errors\n",
        "print('Mean Absolute Error:', metrics.mean_absolute_error(y_test, y_pred_gbr))  \n",
        "print('Mean Squared Error:', metrics.mean_squared_error(y_test, y_pred_gbr))  \n",
        "print('Root Mean Squared Error:', np.sqrt(metrics.mean_squared_error(y_test, y_pred_gbr)))"
      ],
      "execution_count": 62,
      "outputs": [
        {
          "output_type": "stream",
          "text": [
            "Mean Absolute Error: 0.008305647840531562\n",
            "Mean Squared Error: 0.008305647840531562\n",
            "Root Mean Squared Error: 0.09113532707206115\n"
          ],
          "name": "stdout"
        }
      ]
    },
    {
      "cell_type": "markdown",
      "metadata": {
        "id": "lQVRj1N91HTw"
      },
      "source": [
        "From the above experiment , we found that random forest was the better model as it had the least error, so we choose it to determine which features are most impactful in influencing the prediction"
      ]
    },
    {
      "cell_type": "code",
      "metadata": {
        "colab": {
          "base_uri": "https://localhost:8080/",
          "height": 374
        },
        "id": "W62MqRHu1bgQ",
        "outputId": "66e8ebe8-631d-4695-838b-91df47ef70fb"
      },
      "source": [
        "# Get numerical feature importances\n",
        "importances = list(forest.feature_importances_)\n",
        "\n",
        "# We now use some Python magic to connect each feature with its importance\n",
        "# List of tuples with variable and importance\n",
        "feature_importances = [(feature, round(importance, 2)) for feature, importance in zip(test_features, importances)]\n",
        "\n",
        "print(feature_importances) #this already has all the information we need, but it can be tricky to see when there are too many features.\n",
        "print()\n",
        "\n",
        "# Nice to have: We can sort the values in descending order, since we care about the most important features first.\n",
        "feature_importances = sorted(feature_importances, key = lambda x: x[1], reverse = True)\n",
        "\n",
        "# Print out the feature and importances \n",
        "[print('Variable: {:20} Importance: {}'.format(*pair)) for pair in feature_importances];"
      ],
      "execution_count": 63,
      "outputs": [
        {
          "output_type": "error",
          "ename": "NotFittedError",
          "evalue": "ignored",
          "traceback": [
            "\u001b[0;31m---------------------------------------------------------------------------\u001b[0m",
            "\u001b[0;31mNotFittedError\u001b[0m                            Traceback (most recent call last)",
            "\u001b[0;32m<ipython-input-63-99758ad245ff>\u001b[0m in \u001b[0;36m<module>\u001b[0;34m()\u001b[0m\n\u001b[1;32m      1\u001b[0m \u001b[0;31m# Get numerical feature importances\u001b[0m\u001b[0;34m\u001b[0m\u001b[0;34m\u001b[0m\u001b[0;34m\u001b[0m\u001b[0m\n\u001b[0;32m----> 2\u001b[0;31m \u001b[0mimportances\u001b[0m \u001b[0;34m=\u001b[0m \u001b[0mlist\u001b[0m\u001b[0;34m(\u001b[0m\u001b[0mforest\u001b[0m\u001b[0;34m.\u001b[0m\u001b[0mfeature_importances_\u001b[0m\u001b[0;34m)\u001b[0m\u001b[0;34m\u001b[0m\u001b[0;34m\u001b[0m\u001b[0m\n\u001b[0m\u001b[1;32m      3\u001b[0m \u001b[0;34m\u001b[0m\u001b[0m\n\u001b[1;32m      4\u001b[0m \u001b[0;31m# We now use some Python magic to connect each feature with its importance\u001b[0m\u001b[0;34m\u001b[0m\u001b[0;34m\u001b[0m\u001b[0;34m\u001b[0m\u001b[0m\n\u001b[1;32m      5\u001b[0m \u001b[0;31m# List of tuples with variable and importance\u001b[0m\u001b[0;34m\u001b[0m\u001b[0;34m\u001b[0m\u001b[0;34m\u001b[0m\u001b[0m\n",
            "\u001b[0;32m/usr/local/lib/python3.7/dist-packages/sklearn/ensemble/_forest.py\u001b[0m in \u001b[0;36mfeature_importances_\u001b[0;34m(self)\u001b[0m\n\u001b[1;32m    425\u001b[0m             \u001b[0marray\u001b[0m \u001b[0mof\u001b[0m \u001b[0mzeros\u001b[0m\u001b[0;34m.\u001b[0m\u001b[0;34m\u001b[0m\u001b[0;34m\u001b[0m\u001b[0m\n\u001b[1;32m    426\u001b[0m         \"\"\"\n\u001b[0;32m--> 427\u001b[0;31m         \u001b[0mcheck_is_fitted\u001b[0m\u001b[0;34m(\u001b[0m\u001b[0mself\u001b[0m\u001b[0;34m)\u001b[0m\u001b[0;34m\u001b[0m\u001b[0;34m\u001b[0m\u001b[0m\n\u001b[0m\u001b[1;32m    428\u001b[0m \u001b[0;34m\u001b[0m\u001b[0m\n\u001b[1;32m    429\u001b[0m         all_importances = Parallel(n_jobs=self.n_jobs,\n",
            "\u001b[0;32m/usr/local/lib/python3.7/dist-packages/sklearn/utils/validation.py\u001b[0m in \u001b[0;36mcheck_is_fitted\u001b[0;34m(estimator, attributes, msg, all_or_any)\u001b[0m\n\u001b[1;32m    965\u001b[0m \u001b[0;34m\u001b[0m\u001b[0m\n\u001b[1;32m    966\u001b[0m     \u001b[0;32mif\u001b[0m \u001b[0;32mnot\u001b[0m \u001b[0mattrs\u001b[0m\u001b[0;34m:\u001b[0m\u001b[0;34m\u001b[0m\u001b[0;34m\u001b[0m\u001b[0m\n\u001b[0;32m--> 967\u001b[0;31m         \u001b[0;32mraise\u001b[0m \u001b[0mNotFittedError\u001b[0m\u001b[0;34m(\u001b[0m\u001b[0mmsg\u001b[0m \u001b[0;34m%\u001b[0m \u001b[0;34m{\u001b[0m\u001b[0;34m'name'\u001b[0m\u001b[0;34m:\u001b[0m \u001b[0mtype\u001b[0m\u001b[0;34m(\u001b[0m\u001b[0mestimator\u001b[0m\u001b[0;34m)\u001b[0m\u001b[0;34m.\u001b[0m\u001b[0m__name__\u001b[0m\u001b[0;34m}\u001b[0m\u001b[0;34m)\u001b[0m\u001b[0;34m\u001b[0m\u001b[0;34m\u001b[0m\u001b[0m\n\u001b[0m\u001b[1;32m    968\u001b[0m \u001b[0;34m\u001b[0m\u001b[0m\n\u001b[1;32m    969\u001b[0m \u001b[0;34m\u001b[0m\u001b[0m\n",
            "\u001b[0;31mNotFittedError\u001b[0m: This RandomForestRegressor instance is not fitted yet. Call 'fit' with appropriate arguments before using this estimator."
          ]
        }
      ]
    },
    {
      "cell_type": "markdown",
      "metadata": {
        "id": "CcW-tRzT_Qwz"
      },
      "source": [
        "## Part 2: SVM:"
      ]
    },
    {
      "cell_type": "code",
      "metadata": {
        "colab": {
          "base_uri": "https://localhost:8080/"
        },
        "id": "8yVun28B_9a1",
        "outputId": "319e2357-11f9-43bf-e581-114827030fef"
      },
      "source": [
        "from sklearn.svm import SVC,LinearSVC\n",
        "from sklearn.preprocessing import StandardScaler\n",
        "\n",
        "scaler = StandardScaler()\n",
        "scaler.fit_transform(hypothyroid_data)\n",
        "features=hypothyroid_data[['FTI','TSH']].values\n",
        "label=hypothyroid_data['status'].values\n",
        "F_train,F_test,l_train,l_test=train_test_split(features,label,test_size=0.3,random_state=2)\n",
        "\n",
        "# 1. linear kernel\n",
        "# Fit the model\n",
        "model = SVC(kernel= 'linear')\n",
        "model.fit(F_train,l_train)"
      ],
      "execution_count": 65,
      "outputs": [
        {
          "output_type": "execute_result",
          "data": {
            "text/plain": [
              "SVC(C=1.0, break_ties=False, cache_size=200, class_weight=None, coef0=0.0,\n",
              "    decision_function_shape='ovr', degree=3, gamma='scale', kernel='linear',\n",
              "    max_iter=-1, probability=False, random_state=None, shrinking=True,\n",
              "    tol=0.001, verbose=False)"
            ]
          },
          "metadata": {
            "tags": []
          },
          "execution_count": 65
        }
      ]
    },
    {
      "cell_type": "code",
      "metadata": {
        "colab": {
          "base_uri": "https://localhost:8080/",
          "height": 437
        },
        "id": "wkAfXk8yDYuH",
        "outputId": "f3b950d5-77bb-4f98-9e84-9acc25d36e49"
      },
      "source": [
        "# Get the separating hyperplane\n",
        "w = model.coef_[0] #get the first coefficient of our model\n",
        "a = -w[0] / w[1]\n",
        "# Get the x values of our hyperplane. We achieve this by creating a range numbers from the largest number of the butter vlaues and the smallest number of the butter values.  \n",
        "xx = np.linspace(30, 60)\n",
        "yy = a * xx - (model.intercept_[0]) / w[1]\n",
        "\n",
        "# Plot the hyperplane\n",
        "sb.lmplot('FTI', 'TSH', data=hypothyroid_data, hue='status', palette='Set1', fit_reg=False, scatter_kws={\"s\": 70})\n",
        "plt.plot(xx, yy, linewidth=2, color='black');\n"
      ],
      "execution_count": 66,
      "outputs": [
        {
          "output_type": "stream",
          "text": [
            "/usr/local/lib/python3.7/dist-packages/seaborn/_decorators.py:43: FutureWarning: Pass the following variables as keyword args: x, y. From version 0.12, the only valid positional argument will be `data`, and passing other arguments without an explicit keyword will result in an error or misinterpretation.\n",
            "  FutureWarning\n"
          ],
          "name": "stderr"
        },
        {
          "output_type": "display_data",
          "data": {
            "image/png": "[encoded data removed]",
            "text/plain": [
              "<Figure size 402.375x360 with 1 Axes>"
            ]
          },
          "metadata": {
            "tags": [],
            "needs_background": "light"
          }
        }
      ]
    },
    {
      "cell_type": "code",
      "metadata": {
        "colab": {
          "base_uri": "https://localhost:8080/"
        },
        "id": "2Al8vwM4FexJ",
        "outputId": "5d46cccb-4a89-42a6-adfc-2464fc294fa6"
      },
      "source": [
        "l_pred=model.predict(F_test)\n",
        "from sklearn import metrics\n",
        "\n",
        "# And now we assess the errors\n",
        "print('Mean Absolute Error:', metrics.mean_absolute_error(l_test, l_pred))  \n",
        "print('Mean Squared Error:', metrics.mean_squared_error(l_test, l_pred))  \n",
        "print('Root Mean Squared Error:', np.sqrt(metrics.mean_squared_error(l_test, l_pred)))"
      ],
      "execution_count": 67,
      "outputs": [
        {
          "output_type": "stream",
          "text": [
            "Mean Absolute Error: 0.016611295681063124\n",
            "Mean Squared Error: 0.016611295681063124\n",
            "Root Mean Squared Error: 0.12888481555661677\n"
          ],
          "name": "stdout"
        }
      ]
    },
    {
      "cell_type": "code",
      "metadata": {
        "colab": {
          "base_uri": "https://localhost:8080/"
        },
        "id": "G_94z2HnGmYJ",
        "outputId": "9ca8cde2-e5fa-4be0-8693-c69e2ff263ed"
      },
      "source": [
        "# 2. polynomial kernel\n",
        "\n",
        "# Fit the model\n",
        "model = SVC(kernel= 'poly')\n",
        "model.fit(F_train,l_train)"
      ],
      "execution_count": 68,
      "outputs": [
        {
          "output_type": "execute_result",
          "data": {
            "text/plain": [
              "SVC(C=1.0, break_ties=False, cache_size=200, class_weight=None, coef0=0.0,\n",
              "    decision_function_shape='ovr', degree=3, gamma='scale', kernel='poly',\n",
              "    max_iter=-1, probability=False, random_state=None, shrinking=True,\n",
              "    tol=0.001, verbose=False)"
            ]
          },
          "metadata": {
            "tags": []
          },
          "execution_count": 68
        }
      ]
    },
    {
      "cell_type": "code",
      "metadata": {
        "colab": {
          "base_uri": "https://localhost:8080/"
        },
        "id": "mGT0aw2lLv_J",
        "outputId": "983360dc-283e-4c82-8b03-ea9d6e50679b"
      },
      "source": [
        "l_pred=model.predict(F_test)\n",
        "from sklearn import metrics\n",
        "\n",
        "# And now we assess the errors\n",
        "print('Mean Absolute Error:', metrics.mean_absolute_error(l_test, l_pred))  \n",
        "print('Mean Squared Error:', metrics.mean_squared_error(l_test, l_pred))  \n",
        "print('Root Mean Squared Error:', np.sqrt(metrics.mean_squared_error(l_test, l_pred)))"
      ],
      "execution_count": 69,
      "outputs": [
        {
          "output_type": "stream",
          "text": [
            "Mean Absolute Error: 0.024363233665559248\n",
            "Mean Squared Error: 0.024363233665559248\n",
            "Root Mean Squared Error: 0.15608726298311226\n"
          ],
          "name": "stdout"
        }
      ]
    },
    {
      "cell_type": "code",
      "metadata": {
        "colab": {
          "base_uri": "https://localhost:8080/"
        },
        "id": "T7fI91ehM0Iy",
        "outputId": "daa78424-ea8c-4953-adbb-a4098e926e68"
      },
      "source": [
        "# 2. polynomial kernel\n",
        "# Fit the model\n",
        "model = SVC(kernel= 'rbf')\n",
        "model.fit(F_train,l_train)"
      ],
      "execution_count": 70,
      "outputs": [
        {
          "output_type": "execute_result",
          "data": {
            "text/plain": [
              "SVC(C=1.0, break_ties=False, cache_size=200, class_weight=None, coef0=0.0,\n",
              "    decision_function_shape='ovr', degree=3, gamma='scale', kernel='rbf',\n",
              "    max_iter=-1, probability=False, random_state=None, shrinking=True,\n",
              "    tol=0.001, verbose=False)"
            ]
          },
          "metadata": {
            "tags": []
          },
          "execution_count": 70
        }
      ]
    },
    {
      "cell_type": "code",
      "metadata": {
        "colab": {
          "base_uri": "https://localhost:8080/"
        },
        "id": "qfXCBu8bM-YC",
        "outputId": "7e082860-0575-44d7-e3bf-10d8b9aa3efd"
      },
      "source": [
        "l_pred=model.predict(F_test)\n",
        "# And now we assess the errors\n",
        "print('Mean Absolute Error:', metrics.mean_absolute_error(l_test, l_pred))  \n",
        "print('Mean Squared Error:', metrics.mean_squared_error(l_test, l_pred))  \n",
        "print('Root Mean Squared Error:', np.sqrt(metrics.mean_squared_error(l_test, l_pred)))"
      ],
      "execution_count": 71,
      "outputs": [
        {
          "output_type": "stream",
          "text": [
            "Mean Absolute Error: 0.017718715393133997\n",
            "Mean Squared Error: 0.017718715393133997\n",
            "Root Mean Squared Error: 0.13311166512794437\n"
          ],
          "name": "stdout"
        }
      ]
    },
    {
      "cell_type": "markdown",
      "metadata": {
        "id": "2hR8ezdMxz5X"
      },
      "source": [
        "linear kernel has performed better compared to the other kernels, so we proceed to tune its hyperparameters"
      ]
    },
    {
      "cell_type": "code",
      "metadata": {
        "colab": {
          "base_uri": "https://localhost:8080/"
        },
        "id": "HME1gGosyK3E",
        "outputId": "6cdc64da-4ced-4aef-d59a-d708524b4f49"
      },
      "source": [
        "from sklearn.model_selection import GridSearchCV\n",
        "\n",
        "# defining parameter range\n",
        "param_grid = {'C': [0.1, 1, 10, 100, 1000], \n",
        "              'gamma': [1, 0.1, 0.01, 0.001, 0.0001],\n",
        "              'kernel': ['linear']} \n",
        "  \n",
        "grid = GridSearchCV(SVC(), param_grid, refit = True, verbose = 3)\n",
        "  \n",
        "# fitting the model for grid search\n",
        "grid.fit(F_train,l_train)"
      ],
      "execution_count": 72,
      "outputs": [
        {
          "output_type": "stream",
          "text": [
            "Fitting 5 folds for each of 25 candidates, totalling 125 fits\n",
            "[CV] C=0.1, gamma=1, kernel=linear ...................................\n",
            "[CV] ....... C=0.1, gamma=1, kernel=linear, score=0.979, total=   0.0s\n",
            "[CV] C=0.1, gamma=1, kernel=linear ...................................\n",
            "[CV] ....... C=0.1, gamma=1, kernel=linear, score=0.976, total=   0.0s\n",
            "[CV] C=0.1, gamma=1, kernel=linear ...................................\n",
            "[CV] ....... C=0.1, gamma=1, kernel=linear, score=0.988, total=   0.0s\n",
            "[CV] C=0.1, gamma=1, kernel=linear ...................................\n",
            "[CV] ....... C=0.1, gamma=1, kernel=linear, score=0.979, total=   0.0s\n",
            "[CV] C=0.1, gamma=1, kernel=linear ...................................\n",
            "[CV] ....... C=0.1, gamma=1, kernel=linear, score=0.981, total=   0.0s\n",
            "[CV] C=0.1, gamma=0.1, kernel=linear .................................\n",
            "[CV] ..... C=0.1, gamma=0.1, kernel=linear, score=0.979, total=   0.0s\n",
            "[CV] C=0.1, gamma=0.1, kernel=linear .................................\n",
            "[CV] ..... C=0.1, gamma=0.1, kernel=linear, score=0.976, total=   0.0s\n",
            "[CV] C=0.1, gamma=0.1, kernel=linear .................................\n",
            "[CV] ..... C=0.1, gamma=0.1, kernel=linear, score=0.988, total=   0.0s\n",
            "[CV] C=0.1, gamma=0.1, kernel=linear .................................\n"
          ],
          "name": "stdout"
        },
        {
          "output_type": "stream",
          "text": [
            "[Parallel(n_jobs=1)]: Using backend SequentialBackend with 1 concurrent workers.\n",
            "[Parallel(n_jobs=1)]: Done   1 out of   1 | elapsed:    0.0s remaining:    0.0s\n",
            "[Parallel(n_jobs=1)]: Done   2 out of   2 | elapsed:    0.0s remaining:    0.0s\n"
          ],
          "name": "stderr"
        },
        {
          "output_type": "stream",
          "text": [
            "[CV] ..... C=0.1, gamma=0.1, kernel=linear, score=0.979, total=   0.0s\n",
            "[CV] C=0.1, gamma=0.1, kernel=linear .................................\n",
            "[CV] ..... C=0.1, gamma=0.1, kernel=linear, score=0.981, total=   0.0s\n",
            "[CV] C=0.1, gamma=0.01, kernel=linear ................................\n",
            "[CV] .... C=0.1, gamma=0.01, kernel=linear, score=0.979, total=   0.0s\n",
            "[CV] C=0.1, gamma=0.01, kernel=linear ................................\n",
            "[CV] .... C=0.1, gamma=0.01, kernel=linear, score=0.976, total=   0.0s\n",
            "[CV] C=0.1, gamma=0.01, kernel=linear ................................\n",
            "[CV] .... C=0.1, gamma=0.01, kernel=linear, score=0.988, total=   0.0s\n",
            "[CV] C=0.1, gamma=0.01, kernel=linear ................................\n",
            "[CV] .... C=0.1, gamma=0.01, kernel=linear, score=0.979, total=   0.0s\n",
            "[CV] C=0.1, gamma=0.01, kernel=linear ................................\n",
            "[CV] .... C=0.1, gamma=0.01, kernel=linear, score=0.981, total=   0.0s\n",
            "[CV] C=0.1, gamma=0.001, kernel=linear ...............................\n",
            "[CV] ... C=0.1, gamma=0.001, kernel=linear, score=0.979, total=   0.0s\n",
            "[CV] C=0.1, gamma=0.001, kernel=linear ...............................\n",
            "[CV] ... C=0.1, gamma=0.001, kernel=linear, score=0.976, total=   0.0s\n",
            "[CV] C=0.1, gamma=0.001, kernel=linear ...............................\n",
            "[CV] ... C=0.1, gamma=0.001, kernel=linear, score=0.988, total=   0.0s\n",
            "[CV] C=0.1, gamma=0.001, kernel=linear ...............................\n",
            "[CV] ... C=0.1, gamma=0.001, kernel=linear, score=0.979, total=   0.0s\n",
            "[CV] C=0.1, gamma=0.001, kernel=linear ...............................\n",
            "[CV] ... C=0.1, gamma=0.001, kernel=linear, score=0.981, total=   0.0s\n",
            "[CV] C=0.1, gamma=0.0001, kernel=linear ..............................\n",
            "[CV] .. C=0.1, gamma=0.0001, kernel=linear, score=0.979, total=   0.0s\n",
            "[CV] C=0.1, gamma=0.0001, kernel=linear ..............................\n",
            "[CV] .. C=0.1, gamma=0.0001, kernel=linear, score=0.976, total=   0.0s\n",
            "[CV] C=0.1, gamma=0.0001, kernel=linear ..............................\n",
            "[CV] .. C=0.1, gamma=0.0001, kernel=linear, score=0.988, total=   0.0s\n",
            "[CV] C=0.1, gamma=0.0001, kernel=linear ..............................\n",
            "[CV] .. C=0.1, gamma=0.0001, kernel=linear, score=0.979, total=   0.0s\n",
            "[CV] C=0.1, gamma=0.0001, kernel=linear ..............................\n",
            "[CV] .. C=0.1, gamma=0.0001, kernel=linear, score=0.981, total=   0.0s\n",
            "[CV] C=1, gamma=1, kernel=linear .....................................\n",
            "[CV] ......... C=1, gamma=1, kernel=linear, score=0.979, total=   0.1s\n",
            "[CV] C=1, gamma=1, kernel=linear .....................................\n",
            "[CV] ......... C=1, gamma=1, kernel=linear, score=0.976, total=   0.1s\n",
            "[CV] C=1, gamma=1, kernel=linear .....................................\n",
            "[CV] ......... C=1, gamma=1, kernel=linear, score=0.988, total=   0.1s\n",
            "[CV] C=1, gamma=1, kernel=linear .....................................\n",
            "[CV] ......... C=1, gamma=1, kernel=linear, score=0.979, total=   0.1s\n",
            "[CV] C=1, gamma=1, kernel=linear .....................................\n",
            "[CV] ......... C=1, gamma=1, kernel=linear, score=0.981, total=   0.0s\n",
            "[CV] C=1, gamma=0.1, kernel=linear ...................................\n",
            "[CV] ....... C=1, gamma=0.1, kernel=linear, score=0.979, total=   0.1s\n",
            "[CV] C=1, gamma=0.1, kernel=linear ...................................\n",
            "[CV] ....... C=1, gamma=0.1, kernel=linear, score=0.976, total=   0.1s\n",
            "[CV] C=1, gamma=0.1, kernel=linear ...................................\n",
            "[CV] ....... C=1, gamma=0.1, kernel=linear, score=0.988, total=   0.1s\n",
            "[CV] C=1, gamma=0.1, kernel=linear ...................................\n",
            "[CV] ....... C=1, gamma=0.1, kernel=linear, score=0.979, total=   0.1s\n",
            "[CV] C=1, gamma=0.1, kernel=linear ...................................\n",
            "[CV] ....... C=1, gamma=0.1, kernel=linear, score=0.981, total=   0.0s\n",
            "[CV] C=1, gamma=0.01, kernel=linear ..................................\n",
            "[CV] ...... C=1, gamma=0.01, kernel=linear, score=0.979, total=   0.1s\n",
            "[CV] C=1, gamma=0.01, kernel=linear ..................................\n",
            "[CV] ...... C=1, gamma=0.01, kernel=linear, score=0.976, total=   0.1s\n",
            "[CV] C=1, gamma=0.01, kernel=linear ..................................\n",
            "[CV] ...... C=1, gamma=0.01, kernel=linear, score=0.988, total=   0.1s\n",
            "[CV] C=1, gamma=0.01, kernel=linear ..................................\n",
            "[CV] ...... C=1, gamma=0.01, kernel=linear, score=0.979, total=   0.1s\n",
            "[CV] C=1, gamma=0.01, kernel=linear ..................................\n",
            "[CV] ...... C=1, gamma=0.01, kernel=linear, score=0.981, total=   0.1s\n",
            "[CV] C=1, gamma=0.001, kernel=linear .................................\n",
            "[CV] ..... C=1, gamma=0.001, kernel=linear, score=0.979, total=   0.1s\n",
            "[CV] C=1, gamma=0.001, kernel=linear .................................\n",
            "[CV] ..... C=1, gamma=0.001, kernel=linear, score=0.976, total=   0.1s\n",
            "[CV] C=1, gamma=0.001, kernel=linear .................................\n",
            "[CV] ..... C=1, gamma=0.001, kernel=linear, score=0.988, total=   0.1s\n",
            "[CV] C=1, gamma=0.001, kernel=linear .................................\n",
            "[CV] ..... C=1, gamma=0.001, kernel=linear, score=0.979, total=   0.1s\n",
            "[CV] C=1, gamma=0.001, kernel=linear .................................\n",
            "[CV] ..... C=1, gamma=0.001, kernel=linear, score=0.981, total=   0.1s\n",
            "[CV] C=1, gamma=0.0001, kernel=linear ................................\n",
            "[CV] .... C=1, gamma=0.0001, kernel=linear, score=0.979, total=   0.1s\n",
            "[CV] C=1, gamma=0.0001, kernel=linear ................................\n",
            "[CV] .... C=1, gamma=0.0001, kernel=linear, score=0.976, total=   0.1s\n",
            "[CV] C=1, gamma=0.0001, kernel=linear ................................\n",
            "[CV] .... C=1, gamma=0.0001, kernel=linear, score=0.988, total=   0.1s\n",
            "[CV] C=1, gamma=0.0001, kernel=linear ................................\n",
            "[CV] .... C=1, gamma=0.0001, kernel=linear, score=0.979, total=   0.1s\n",
            "[CV] C=1, gamma=0.0001, kernel=linear ................................\n",
            "[CV] .... C=1, gamma=0.0001, kernel=linear, score=0.981, total=   0.0s\n",
            "[CV] C=10, gamma=1, kernel=linear ....................................\n",
            "[CV] ........ C=10, gamma=1, kernel=linear, score=0.979, total=   0.4s\n",
            "[CV] C=10, gamma=1, kernel=linear ....................................\n",
            "[CV] ........ C=10, gamma=1, kernel=linear, score=0.976, total=   0.4s\n",
            "[CV] C=10, gamma=1, kernel=linear ....................................\n",
            "[CV] ........ C=10, gamma=1, kernel=linear, score=0.988, total=   0.9s\n",
            "[CV] C=10, gamma=1, kernel=linear ....................................\n",
            "[CV] ........ C=10, gamma=1, kernel=linear, score=0.979, total=   0.4s\n",
            "[CV] C=10, gamma=1, kernel=linear ....................................\n",
            "[CV] ........ C=10, gamma=1, kernel=linear, score=0.981, total=   0.3s\n",
            "[CV] C=10, gamma=0.1, kernel=linear ..................................\n",
            "[CV] ...... C=10, gamma=0.1, kernel=linear, score=0.979, total=   0.4s\n",
            "[CV] C=10, gamma=0.1, kernel=linear ..................................\n",
            "[CV] ...... C=10, gamma=0.1, kernel=linear, score=0.976, total=   0.4s\n",
            "[CV] C=10, gamma=0.1, kernel=linear ..................................\n",
            "[CV] ...... C=10, gamma=0.1, kernel=linear, score=0.988, total=   0.9s\n",
            "[CV] C=10, gamma=0.1, kernel=linear ..................................\n",
            "[CV] ...... C=10, gamma=0.1, kernel=linear, score=0.979, total=   0.4s\n",
            "[CV] C=10, gamma=0.1, kernel=linear ..................................\n",
            "[CV] ...... C=10, gamma=0.1, kernel=linear, score=0.981, total=   0.3s\n",
            "[CV] C=10, gamma=0.01, kernel=linear .................................\n",
            "[CV] ..... C=10, gamma=0.01, kernel=linear, score=0.979, total=   0.4s\n",
            "[CV] C=10, gamma=0.01, kernel=linear .................................\n",
            "[CV] ..... C=10, gamma=0.01, kernel=linear, score=0.976, total=   0.4s\n",
            "[CV] C=10, gamma=0.01, kernel=linear .................................\n",
            "[CV] ..... C=10, gamma=0.01, kernel=linear, score=0.988, total=   0.9s\n",
            "[CV] C=10, gamma=0.01, kernel=linear .................................\n",
            "[CV] ..... C=10, gamma=0.01, kernel=linear, score=0.979, total=   0.4s\n",
            "[CV] C=10, gamma=0.01, kernel=linear .................................\n",
            "[CV] ..... C=10, gamma=0.01, kernel=linear, score=0.981, total=   0.3s\n",
            "[CV] C=10, gamma=0.001, kernel=linear ................................\n",
            "[CV] .... C=10, gamma=0.001, kernel=linear, score=0.979, total=   0.4s\n",
            "[CV] C=10, gamma=0.001, kernel=linear ................................\n",
            "[CV] .... C=10, gamma=0.001, kernel=linear, score=0.976, total=   0.4s\n",
            "[CV] C=10, gamma=0.001, kernel=linear ................................\n",
            "[CV] .... C=10, gamma=0.001, kernel=linear, score=0.988, total=   0.9s\n",
            "[CV] C=10, gamma=0.001, kernel=linear ................................\n",
            "[CV] .... C=10, gamma=0.001, kernel=linear, score=0.979, total=   0.4s\n",
            "[CV] C=10, gamma=0.001, kernel=linear ................................\n",
            "[CV] .... C=10, gamma=0.001, kernel=linear, score=0.981, total=   0.3s\n",
            "[CV] C=10, gamma=0.0001, kernel=linear ...............................\n",
            "[CV] ... C=10, gamma=0.0001, kernel=linear, score=0.979, total=   0.4s\n",
            "[CV] C=10, gamma=0.0001, kernel=linear ...............................\n",
            "[CV] ... C=10, gamma=0.0001, kernel=linear, score=0.976, total=   0.4s\n",
            "[CV] C=10, gamma=0.0001, kernel=linear ...............................\n",
            "[CV] ... C=10, gamma=0.0001, kernel=linear, score=0.988, total=   0.9s\n",
            "[CV] C=10, gamma=0.0001, kernel=linear ...............................\n",
            "[CV] ... C=10, gamma=0.0001, kernel=linear, score=0.979, total=   0.4s\n",
            "[CV] C=10, gamma=0.0001, kernel=linear ...............................\n",
            "[CV] ... C=10, gamma=0.0001, kernel=linear, score=0.981, total=   0.3s\n",
            "[CV] C=100, gamma=1, kernel=linear ...................................\n",
            "[CV] ....... C=100, gamma=1, kernel=linear, score=0.976, total=   3.0s\n",
            "[CV] C=100, gamma=1, kernel=linear ...................................\n",
            "[CV] ....... C=100, gamma=1, kernel=linear, score=0.976, total=   2.8s\n",
            "[CV] C=100, gamma=1, kernel=linear ...................................\n",
            "[CV] ....... C=100, gamma=1, kernel=linear, score=0.988, total=   4.2s\n",
            "[CV] C=100, gamma=1, kernel=linear ...................................\n",
            "[CV] ....... C=100, gamma=1, kernel=linear, score=0.979, total=   3.5s\n",
            "[CV] C=100, gamma=1, kernel=linear ...................................\n",
            "[CV] ....... C=100, gamma=1, kernel=linear, score=0.981, total=   6.3s\n",
            "[CV] C=100, gamma=0.1, kernel=linear .................................\n",
            "[CV] ..... C=100, gamma=0.1, kernel=linear, score=0.976, total=   3.1s\n",
            "[CV] C=100, gamma=0.1, kernel=linear .................................\n",
            "[CV] ..... C=100, gamma=0.1, kernel=linear, score=0.976, total=   2.8s\n",
            "[CV] C=100, gamma=0.1, kernel=linear .................................\n",
            "[CV] ..... C=100, gamma=0.1, kernel=linear, score=0.988, total=   4.2s\n",
            "[CV] C=100, gamma=0.1, kernel=linear .................................\n",
            "[CV] ..... C=100, gamma=0.1, kernel=linear, score=0.979, total=   3.5s\n",
            "[CV] C=100, gamma=0.1, kernel=linear .................................\n",
            "[CV] ..... C=100, gamma=0.1, kernel=linear, score=0.981, total=   6.2s\n",
            "[CV] C=100, gamma=0.01, kernel=linear ................................\n",
            "[CV] .... C=100, gamma=0.01, kernel=linear, score=0.976, total=   3.0s\n",
            "[CV] C=100, gamma=0.01, kernel=linear ................................\n",
            "[CV] .... C=100, gamma=0.01, kernel=linear, score=0.976, total=   2.8s\n",
            "[CV] C=100, gamma=0.01, kernel=linear ................................\n",
            "[CV] .... C=100, gamma=0.01, kernel=linear, score=0.988, total=   4.2s\n",
            "[CV] C=100, gamma=0.01, kernel=linear ................................\n",
            "[CV] .... C=100, gamma=0.01, kernel=linear, score=0.979, total=   3.5s\n",
            "[CV] C=100, gamma=0.01, kernel=linear ................................\n",
            "[CV] .... C=100, gamma=0.01, kernel=linear, score=0.981, total=   6.2s\n",
            "[CV] C=100, gamma=0.001, kernel=linear ...............................\n",
            "[CV] ... C=100, gamma=0.001, kernel=linear, score=0.976, total=   3.1s\n",
            "[CV] C=100, gamma=0.001, kernel=linear ...............................\n",
            "[CV] ... C=100, gamma=0.001, kernel=linear, score=0.976, total=   2.8s\n",
            "[CV] C=100, gamma=0.001, kernel=linear ...............................\n",
            "[CV] ... C=100, gamma=0.001, kernel=linear, score=0.988, total=   4.2s\n",
            "[CV] C=100, gamma=0.001, kernel=linear ...............................\n",
            "[CV] ... C=100, gamma=0.001, kernel=linear, score=0.979, total=   3.5s\n",
            "[CV] C=100, gamma=0.001, kernel=linear ...............................\n",
            "[CV] ... C=100, gamma=0.001, kernel=linear, score=0.981, total=   6.2s\n",
            "[CV] C=100, gamma=0.0001, kernel=linear ..............................\n",
            "[CV] .. C=100, gamma=0.0001, kernel=linear, score=0.976, total=   3.0s\n",
            "[CV] C=100, gamma=0.0001, kernel=linear ..............................\n",
            "[CV] .. C=100, gamma=0.0001, kernel=linear, score=0.976, total=   2.8s\n",
            "[CV] C=100, gamma=0.0001, kernel=linear ..............................\n",
            "[CV] .. C=100, gamma=0.0001, kernel=linear, score=0.988, total=   4.2s\n",
            "[CV] C=100, gamma=0.0001, kernel=linear ..............................\n",
            "[CV] .. C=100, gamma=0.0001, kernel=linear, score=0.979, total=   3.5s\n",
            "[CV] C=100, gamma=0.0001, kernel=linear ..............................\n",
            "[CV] .. C=100, gamma=0.0001, kernel=linear, score=0.981, total=   6.5s\n",
            "[CV] C=1000, gamma=1, kernel=linear ..................................\n",
            "[CV] ...... C=1000, gamma=1, kernel=linear, score=0.979, total=  19.5s\n",
            "[CV] C=1000, gamma=1, kernel=linear ..................................\n",
            "[CV] ...... C=1000, gamma=1, kernel=linear, score=0.976, total=  14.9s\n",
            "[CV] C=1000, gamma=1, kernel=linear ..................................\n",
            "[CV] ...... C=1000, gamma=1, kernel=linear, score=0.988, total=  14.2s\n",
            "[CV] C=1000, gamma=1, kernel=linear ..................................\n",
            "[CV] ...... C=1000, gamma=1, kernel=linear, score=0.976, total=  27.1s\n",
            "[CV] C=1000, gamma=1, kernel=linear ..................................\n",
            "[CV] ...... C=1000, gamma=1, kernel=linear, score=0.981, total=  16.4s\n",
            "[CV] C=1000, gamma=0.1, kernel=linear ................................\n",
            "[CV] .... C=1000, gamma=0.1, kernel=linear, score=0.979, total=  19.6s\n",
            "[CV] C=1000, gamma=0.1, kernel=linear ................................\n",
            "[CV] .... C=1000, gamma=0.1, kernel=linear, score=0.976, total=  14.9s\n",
            "[CV] C=1000, gamma=0.1, kernel=linear ................................\n",
            "[CV] .... C=1000, gamma=0.1, kernel=linear, score=0.988, total=  14.1s\n",
            "[CV] C=1000, gamma=0.1, kernel=linear ................................\n",
            "[CV] .... C=1000, gamma=0.1, kernel=linear, score=0.976, total=  27.4s\n",
            "[CV] C=1000, gamma=0.1, kernel=linear ................................\n",
            "[CV] .... C=1000, gamma=0.1, kernel=linear, score=0.981, total=  16.5s\n",
            "[CV] C=1000, gamma=0.01, kernel=linear ...............................\n",
            "[CV] ... C=1000, gamma=0.01, kernel=linear, score=0.979, total=  19.6s\n",
            "[CV] C=1000, gamma=0.01, kernel=linear ...............................\n",
            "[CV] ... C=1000, gamma=0.01, kernel=linear, score=0.976, total=  14.9s\n",
            "[CV] C=1000, gamma=0.01, kernel=linear ...............................\n",
            "[CV] ... C=1000, gamma=0.01, kernel=linear, score=0.988, total=  14.2s\n",
            "[CV] C=1000, gamma=0.01, kernel=linear ...............................\n",
            "[CV] ... C=1000, gamma=0.01, kernel=linear, score=0.976, total=  27.4s\n",
            "[CV] C=1000, gamma=0.01, kernel=linear ...............................\n",
            "[CV] ... C=1000, gamma=0.01, kernel=linear, score=0.981, total=  16.5s\n",
            "[CV] C=1000, gamma=0.001, kernel=linear ..............................\n",
            "[CV] .. C=1000, gamma=0.001, kernel=linear, score=0.979, total=  19.6s\n",
            "[CV] C=1000, gamma=0.001, kernel=linear ..............................\n",
            "[CV] .. C=1000, gamma=0.001, kernel=linear, score=0.976, total=  14.9s\n",
            "[CV] C=1000, gamma=0.001, kernel=linear ..............................\n",
            "[CV] .. C=1000, gamma=0.001, kernel=linear, score=0.988, total=  14.2s\n",
            "[CV] C=1000, gamma=0.001, kernel=linear ..............................\n",
            "[CV] .. C=1000, gamma=0.001, kernel=linear, score=0.976, total=  27.2s\n",
            "[CV] C=1000, gamma=0.001, kernel=linear ..............................\n",
            "[CV] .. C=1000, gamma=0.001, kernel=linear, score=0.981, total=  16.3s\n",
            "[CV] C=1000, gamma=0.0001, kernel=linear .............................\n",
            "[CV] . C=1000, gamma=0.0001, kernel=linear, score=0.979, total=  19.5s\n",
            "[CV] C=1000, gamma=0.0001, kernel=linear .............................\n",
            "[CV] . C=1000, gamma=0.0001, kernel=linear, score=0.976, total=  15.0s\n",
            "[CV] C=1000, gamma=0.0001, kernel=linear .............................\n",
            "[CV] . C=1000, gamma=0.0001, kernel=linear, score=0.988, total=  14.3s\n",
            "[CV] C=1000, gamma=0.0001, kernel=linear .............................\n",
            "[CV] . C=1000, gamma=0.0001, kernel=linear, score=0.976, total=  27.2s\n",
            "[CV] C=1000, gamma=0.0001, kernel=linear .............................\n",
            "[CV] . C=1000, gamma=0.0001, kernel=linear, score=0.981, total=  16.5s\n"
          ],
          "name": "stdout"
        },
        {
          "output_type": "stream",
          "text": [
            "[Parallel(n_jobs=1)]: Done 125 out of 125 | elapsed:  9.6min finished\n"
          ],
          "name": "stderr"
        },
        {
          "output_type": "execute_result",
          "data": {
            "text/plain": [
              "GridSearchCV(cv=None, error_score=nan,\n",
              "             estimator=SVC(C=1.0, break_ties=False, cache_size=200,\n",
              "                           class_weight=None, coef0=0.0,\n",
              "                           decision_function_shape='ovr', degree=3,\n",
              "                           gamma='scale', kernel='rbf', max_iter=-1,\n",
              "                           probability=False, random_state=None, shrinking=True,\n",
              "                           tol=0.001, verbose=False),\n",
              "             iid='deprecated', n_jobs=None,\n",
              "             param_grid={'C': [0.1, 1, 10, 100, 1000],\n",
              "                         'gamma': [1, 0.1, 0.01, 0.001, 0.0001],\n",
              "                         'kernel': ['linear']},\n",
              "             pre_dispatch='2*n_jobs', refit=True, return_train_score=False,\n",
              "             scoring=None, verbose=3)"
            ]
          },
          "metadata": {
            "tags": []
          },
          "execution_count": 72
        }
      ]
    },
    {
      "cell_type": "code",
      "metadata": {
        "colab": {
          "base_uri": "https://localhost:8080/"
        },
        "id": "Q_W6iY2-zC1L",
        "outputId": "5df37406-1dff-4dca-fc62-da9e5cfaa85f"
      },
      "source": [
        "# print best parameter after tuning\n",
        "print(grid.best_params_)"
      ],
      "execution_count": 73,
      "outputs": [
        {
          "output_type": "stream",
          "text": [
            "{'C': 0.1, 'gamma': 1, 'kernel': 'linear'}\n"
          ],
          "name": "stdout"
        }
      ]
    },
    {
      "cell_type": "markdown",
      "metadata": {
        "id": "YoDrmut02KsJ"
      },
      "source": [
        "applying the rest of the features to the chosen model"
      ]
    },
    {
      "cell_type": "code",
      "metadata": {
        "colab": {
          "base_uri": "https://localhost:8080/"
        },
        "id": "ydoLY5T6AbdM",
        "outputId": "22e6125c-c4ac-4939-e0fd-a4e30d0708cf"
      },
      "source": [
        "\n",
        "grid = SVC(kernel= 'linear',C=0.1,gamma=1)\n",
        "grid.fit(X_train,y_train)"
      ],
      "execution_count": 76,
      "outputs": [
        {
          "output_type": "execute_result",
          "data": {
            "text/plain": [
              "SVC(C=0.1, break_ties=False, cache_size=200, class_weight=None, coef0=0.0,\n",
              "    decision_function_shape='ovr', degree=3, gamma=1, kernel='linear',\n",
              "    max_iter=-1, probability=False, random_state=None, shrinking=True,\n",
              "    tol=0.001, verbose=False)"
            ]
          },
          "metadata": {
            "tags": []
          },
          "execution_count": 76
        }
      ]
    },
    {
      "cell_type": "code",
      "metadata": {
        "colab": {
          "base_uri": "https://localhost:8080/"
        },
        "id": "u-zAZ05r2w7i",
        "outputId": "326a4ea2-583d-4661-cbb0-bab501621573"
      },
      "source": [
        "y_pred=grid.predict(X_test)\n",
        "# And now we assess the errors\n",
        "print('Mean Absolute Error:', metrics.mean_absolute_error(y_test, y_pred))  \n",
        "print('Mean Squared Error:', metrics.mean_squared_error(y_test, y_pred))  \n",
        "print('Root Mean Squared Error:', np.sqrt(metrics.mean_squared_error(y_test, y_pred)))"
      ],
      "execution_count": 78,
      "outputs": [
        {
          "output_type": "stream",
          "text": [
            "Mean Absolute Error: 0.019933554817275746\n",
            "Mean Squared Error: 0.019933554817275746\n",
            "Root Mean Squared Error: 0.1411862416005035\n"
          ],
          "name": "stdout"
        }
      ]
    },
    {
      "cell_type": "markdown",
      "metadata": {
        "id": "lQ2G4ZPDVOXE"
      },
      "source": [
        "## 8. Challenging the solution"
      ]
    },
    {
      "cell_type": "markdown",
      "metadata": {
        "id": "jWVGKGuiYMWg"
      },
      "source": [
        "\n",
        "* Our model's performance could be improved by increasing the number of observations used to train and test it.\n",
        "* we could also increase the number of iterations to get a better average performance.\n",
        "\n",
        "\n",
        "\n",
        "\n"
      ]
    },
    {
      "cell_type": "markdown",
      "metadata": {
        "id": "iM2Caexz_ITy"
      },
      "source": [
        "## conclusion\n",
        "* the best model to predict hypothyroidism given our set of data is random forest.\n",
        "* the most important feature variable is FTI followed by TSH.\n",
        "*cross-validating an advanced decision tree model is computationally expensive without much improvement in the performance"
      ]
    }
  ]
}